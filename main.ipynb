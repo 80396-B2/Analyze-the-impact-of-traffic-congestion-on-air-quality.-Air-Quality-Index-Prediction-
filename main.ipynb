{
 "cells": [
  {
   "cell_type": "markdown",
   "metadata": {},
   "source": [
    "## Problem Definition\n",
    "Credit scoring is the process of assessing the creditworthiness of an individual or business. This process is used by lenders to determine whether or not to approve a loan application and what interest rate to charge. Creditworthiness is typically assessed based on a number of factors, including the applicant's credit history, income, employment history, and debt-to-income ratio.\n",
    "\n",
    "## Objective\n",
    "The objective of a credit score prediction project is to develop a machine learning model that can accurately predict credit scores. This model can then be used by lenders to make more informed decisions about loan applications."
   ]
  },
  {
   "cell_type": "markdown",
   "metadata": {},
   "source": [
    "# Credit Score Prediction\n"
   ]
  },
  {
   "cell_type": "markdown",
   "metadata": {},
   "source": [
    "## Data Description\n",
    "- ID: Represents a unique identification of an entry\n",
    "- Customer_ID: Represents a unique identification of a person\n",
    "- Month: Represents the month of the year\n",
    "- Name: Represents the name of a person\n",
    "- Age: Represents the age of the person\n",
    "- SSN: Represents the social security number of a person\n",
    "- Occupation: Represents the occupation of the person\n",
    "- Annual_Income: Represents the annual income of the person\n",
    "- Monthly_Inhand_Salary: Represents the monthly base salary of a person\n",
    "- Num_Bank_Accounts: Represents the number of bank accounts a person holds\n",
    "- Num_Credit_Card: Represents the number of other credit cards held by a person\n",
    "- Interest_Rate: Represents the interest rate on credit card\n",
    "- Num_of_Loan: Represents the number of loans taken from the bank\n",
    "- Type_of_Loan: Represents the types of loan taken by a person\n",
    "- Delay_from_due_date: Represents the average number of days delayed from the    payment date\n",
    "- Num_of_Delayed_Payment: Represents the average number of payments delayed by a person\n",
    "- Changed_Credit_Limit: Represents the percentage change in credit card limit\n",
    "- Num_Credit_Inquiries: Represents the number of credit card inquiries\n",
    "- Credit_Mix: Represents the classification of the mix of credits\n",
    "- Outstanding_Debt: Represents the remaining debt to be paid\n",
    "- Credit_Utilization_Ratio: Represents the utilization ratio of credit card\n",
    "- Credit_History_Age: Represents the age of credit history of the person\n",
    "- Payment_of_Min_Amount: Represents whether only the minimum amount was paid by the person\n",
    "- Total_EMI_per_month: Represents the monthly EMI payments\n",
    "- Amount_invested_monthly: Represents the monthly amount invested by the customer\n",
    "- Payment_Behaviour: Represents the payment behavior of the customer\n",
    "- Monthly_Balance:Represents the monthly balance amount of the customer\n",
    "- Credit_Score:Represents the bracket of credit score (Poor, Standard, Good) ((Target))\n"
   ]
  },
  {
   "cell_type": "code",
   "execution_count": 115,
   "metadata": {},
   "outputs": [],
   "source": [
    "import pandas as pd\n",
    "import numpy as np\n",
    "import seaborn as sns\n",
    "import matplotlib.pyplot as plt\n",
    "from sklearn.preprocessing import OneHotEncoder\n",
    "from sklearn.preprocessing import LabelEncoder, StandardScaler\n",
    "from sklearn.impute import KNNImputer\n",
    "import xgboost as xgb\n",
    "from sklearn.tree import DecisionTreeClassifier\n",
    "from sklearn.ensemble import RandomForestClassifier\n",
    "from sklearn import metrics\n",
    "from imblearn.over_sampling import SMOTE\n",
    "import scipy.stats as stats\n",
    "from sklearn.metrics import classification_report , accuracy_score , recall_score\n",
    "from sklearn.model_selection import train_test_split"
   ]
  },
  {
   "cell_type": "code",
   "execution_count": 116,
   "metadata": {},
   "outputs": [
    {
     "name": "stderr",
     "output_type": "stream",
     "text": [
      "/usr/local/lib/python3.10/dist-packages/IPython/core/interactiveshell.py:3526: DtypeWarning: Columns (26) have mixed types.Specify dtype option on import or set low_memory=False.\n",
      "  exec(code_obj, self.user_global_ns, self.user_ns)\n"
     ]
    }
   ],
   "source": [
    "df=pd.read_csv(\"/home/kartik/Documents/DBDA_PROJECT/credit/archive/train.csv\");"
   ]
  },
  {
   "cell_type": "code",
   "execution_count": 117,
   "metadata": {},
   "outputs": [
    {
     "name": "stdout",
     "output_type": "stream",
     "text": [
      "<class 'pandas.core.frame.DataFrame'>\n",
      "RangeIndex: 100000 entries, 0 to 99999\n",
      "Data columns (total 28 columns):\n",
      " #   Column                    Non-Null Count   Dtype  \n",
      "---  ------                    --------------   -----  \n",
      " 0   ID                        100000 non-null  object \n",
      " 1   Customer_ID               100000 non-null  object \n",
      " 2   Month                     100000 non-null  object \n",
      " 3   Name                      90015 non-null   object \n",
      " 4   Age                       100000 non-null  object \n",
      " 5   SSN                       100000 non-null  object \n",
      " 6   Occupation                100000 non-null  object \n",
      " 7   Annual_Income             100000 non-null  object \n",
      " 8   Monthly_Inhand_Salary     84998 non-null   float64\n",
      " 9   Num_Bank_Accounts         100000 non-null  int64  \n",
      " 10  Num_Credit_Card           100000 non-null  int64  \n",
      " 11  Interest_Rate             100000 non-null  int64  \n",
      " 12  Num_of_Loan               100000 non-null  object \n",
      " 13  Type_of_Loan              88592 non-null   object \n",
      " 14  Delay_from_due_date       100000 non-null  int64  \n",
      " 15  Num_of_Delayed_Payment    92998 non-null   object \n",
      " 16  Changed_Credit_Limit      100000 non-null  object \n",
      " 17  Num_Credit_Inquiries      98035 non-null   float64\n",
      " 18  Credit_Mix                100000 non-null  object \n",
      " 19  Outstanding_Debt          100000 non-null  object \n",
      " 20  Credit_Utilization_Ratio  100000 non-null  float64\n",
      " 21  Credit_History_Age        90970 non-null   object \n",
      " 22  Payment_of_Min_Amount     100000 non-null  object \n",
      " 23  Total_EMI_per_month       100000 non-null  float64\n",
      " 24  Amount_invested_monthly   95521 non-null   object \n",
      " 25  Payment_Behaviour         100000 non-null  object \n",
      " 26  Monthly_Balance           98800 non-null   object \n",
      " 27  Credit_Score              100000 non-null  object \n",
      "dtypes: float64(4), int64(4), object(20)\n",
      "memory usage: 21.4+ MB\n"
     ]
    }
   ],
   "source": [
    "df.info()"
   ]
  },
  {
   "cell_type": "code",
   "execution_count": 118,
   "metadata": {},
   "outputs": [
    {
     "data": {
      "text/plain": [
       "(100000, 28)"
      ]
     },
     "execution_count": 118,
     "metadata": {},
     "output_type": "execute_result"
    }
   ],
   "source": [
    "df.shape"
   ]
  },
  {
   "cell_type": "code",
   "execution_count": 119,
   "metadata": {},
   "outputs": [
    {
     "data": {
      "text/plain": [
       "ID                           object\n",
       "Customer_ID                  object\n",
       "Month                        object\n",
       "Name                         object\n",
       "Age                          object\n",
       "SSN                          object\n",
       "Occupation                   object\n",
       "Annual_Income                object\n",
       "Monthly_Inhand_Salary       float64\n",
       "Num_Bank_Accounts             int64\n",
       "Num_Credit_Card               int64\n",
       "Interest_Rate                 int64\n",
       "Num_of_Loan                  object\n",
       "Type_of_Loan                 object\n",
       "Delay_from_due_date           int64\n",
       "Num_of_Delayed_Payment       object\n",
       "Changed_Credit_Limit         object\n",
       "Num_Credit_Inquiries        float64\n",
       "Credit_Mix                   object\n",
       "Outstanding_Debt             object\n",
       "Credit_Utilization_Ratio    float64\n",
       "Credit_History_Age           object\n",
       "Payment_of_Min_Amount        object\n",
       "Total_EMI_per_month         float64\n",
       "Amount_invested_monthly      object\n",
       "Payment_Behaviour            object\n",
       "Monthly_Balance              object\n",
       "Credit_Score                 object\n",
       "dtype: object"
      ]
     },
     "execution_count": 119,
     "metadata": {},
     "output_type": "execute_result"
    }
   ],
   "source": [
    "df.dtypes"
   ]
  },
  {
   "cell_type": "code",
   "execution_count": 120,
   "metadata": {},
   "outputs": [
    {
     "data": {
      "text/plain": [
       "ID                           0.000\n",
       "Customer_ID                  0.000\n",
       "Month                        0.000\n",
       "Name                         9.985\n",
       "Age                          0.000\n",
       "SSN                          0.000\n",
       "Occupation                   0.000\n",
       "Annual_Income                0.000\n",
       "Monthly_Inhand_Salary       15.002\n",
       "Num_Bank_Accounts            0.000\n",
       "Num_Credit_Card              0.000\n",
       "Interest_Rate                0.000\n",
       "Num_of_Loan                  0.000\n",
       "Type_of_Loan                11.408\n",
       "Delay_from_due_date          0.000\n",
       "Num_of_Delayed_Payment       7.002\n",
       "Changed_Credit_Limit         0.000\n",
       "Num_Credit_Inquiries         1.965\n",
       "Credit_Mix                   0.000\n",
       "Outstanding_Debt             0.000\n",
       "Credit_Utilization_Ratio     0.000\n",
       "Credit_History_Age           9.030\n",
       "Payment_of_Min_Amount        0.000\n",
       "Total_EMI_per_month          0.000\n",
       "Amount_invested_monthly      4.479\n",
       "Payment_Behaviour            0.000\n",
       "Monthly_Balance              1.200\n",
       "Credit_Score                 0.000\n",
       "dtype: float64"
      ]
     },
     "execution_count": 120,
     "metadata": {},
     "output_type": "execute_result"
    }
   ],
   "source": [
    "df.isnull().sum()/len(df)*100"
   ]
  },
  {
   "cell_type": "code",
   "execution_count": 121,
   "metadata": {},
   "outputs": [
    {
     "data": {
      "text/html": [
       "<div>\n",
       "<style scoped>\n",
       "    .dataframe tbody tr th:only-of-type {\n",
       "        vertical-align: middle;\n",
       "    }\n",
       "\n",
       "    .dataframe tbody tr th {\n",
       "        vertical-align: top;\n",
       "    }\n",
       "\n",
       "    .dataframe thead th {\n",
       "        text-align: right;\n",
       "    }\n",
       "</style>\n",
       "<table border=\"1\" class=\"dataframe\">\n",
       "  <thead>\n",
       "    <tr style=\"text-align: right;\">\n",
       "      <th></th>\n",
       "      <th>ID</th>\n",
       "      <th>Customer_ID</th>\n",
       "      <th>Month</th>\n",
       "      <th>Name</th>\n",
       "      <th>Age</th>\n",
       "      <th>SSN</th>\n",
       "      <th>Occupation</th>\n",
       "      <th>Annual_Income</th>\n",
       "      <th>Monthly_Inhand_Salary</th>\n",
       "      <th>Num_Bank_Accounts</th>\n",
       "      <th>...</th>\n",
       "      <th>Credit_Mix</th>\n",
       "      <th>Outstanding_Debt</th>\n",
       "      <th>Credit_Utilization_Ratio</th>\n",
       "      <th>Credit_History_Age</th>\n",
       "      <th>Payment_of_Min_Amount</th>\n",
       "      <th>Total_EMI_per_month</th>\n",
       "      <th>Amount_invested_monthly</th>\n",
       "      <th>Payment_Behaviour</th>\n",
       "      <th>Monthly_Balance</th>\n",
       "      <th>Credit_Score</th>\n",
       "    </tr>\n",
       "  </thead>\n",
       "  <tbody>\n",
       "    <tr>\n",
       "      <th>0</th>\n",
       "      <td>0x1602</td>\n",
       "      <td>CUS_0xd40</td>\n",
       "      <td>January</td>\n",
       "      <td>Aaron Maashoh</td>\n",
       "      <td>23</td>\n",
       "      <td>821-00-0265</td>\n",
       "      <td>Scientist</td>\n",
       "      <td>19114.12</td>\n",
       "      <td>1824.843333</td>\n",
       "      <td>3</td>\n",
       "      <td>...</td>\n",
       "      <td>_</td>\n",
       "      <td>809.98</td>\n",
       "      <td>26.822620</td>\n",
       "      <td>22 Years and 1 Months</td>\n",
       "      <td>No</td>\n",
       "      <td>49.574949</td>\n",
       "      <td>80.41529543900253</td>\n",
       "      <td>High_spent_Small_value_payments</td>\n",
       "      <td>312.49408867943663</td>\n",
       "      <td>Good</td>\n",
       "    </tr>\n",
       "    <tr>\n",
       "      <th>6</th>\n",
       "      <td>0x1608</td>\n",
       "      <td>CUS_0xd40</td>\n",
       "      <td>July</td>\n",
       "      <td>Aaron Maashoh</td>\n",
       "      <td>23</td>\n",
       "      <td>821-00-0265</td>\n",
       "      <td>Scientist</td>\n",
       "      <td>19114.12</td>\n",
       "      <td>1824.843333</td>\n",
       "      <td>3</td>\n",
       "      <td>...</td>\n",
       "      <td>Good</td>\n",
       "      <td>809.98</td>\n",
       "      <td>22.537593</td>\n",
       "      <td>22 Years and 7 Months</td>\n",
       "      <td>No</td>\n",
       "      <td>49.574949</td>\n",
       "      <td>178.3440674122349</td>\n",
       "      <td>Low_spent_Small_value_payments</td>\n",
       "      <td>244.5653167062043</td>\n",
       "      <td>Good</td>\n",
       "    </tr>\n",
       "    <tr>\n",
       "      <th>8</th>\n",
       "      <td>0x160e</td>\n",
       "      <td>CUS_0x21b1</td>\n",
       "      <td>January</td>\n",
       "      <td>Rick Rothackerj</td>\n",
       "      <td>28_</td>\n",
       "      <td>004-07-5839</td>\n",
       "      <td>_______</td>\n",
       "      <td>34847.84</td>\n",
       "      <td>3037.986667</td>\n",
       "      <td>2</td>\n",
       "      <td>...</td>\n",
       "      <td>Good</td>\n",
       "      <td>605.03</td>\n",
       "      <td>24.464031</td>\n",
       "      <td>26 Years and 7 Months</td>\n",
       "      <td>No</td>\n",
       "      <td>18.816215</td>\n",
       "      <td>104.291825168246</td>\n",
       "      <td>Low_spent_Small_value_payments</td>\n",
       "      <td>470.69062692529184</td>\n",
       "      <td>Standard</td>\n",
       "    </tr>\n",
       "    <tr>\n",
       "      <th>9</th>\n",
       "      <td>0x160f</td>\n",
       "      <td>CUS_0x21b1</td>\n",
       "      <td>February</td>\n",
       "      <td>Rick Rothackerj</td>\n",
       "      <td>28</td>\n",
       "      <td>004-07-5839</td>\n",
       "      <td>Teacher</td>\n",
       "      <td>34847.84</td>\n",
       "      <td>3037.986667</td>\n",
       "      <td>2</td>\n",
       "      <td>...</td>\n",
       "      <td>Good</td>\n",
       "      <td>605.03</td>\n",
       "      <td>38.550848</td>\n",
       "      <td>26 Years and 8 Months</td>\n",
       "      <td>No</td>\n",
       "      <td>18.816215</td>\n",
       "      <td>40.39123782853101</td>\n",
       "      <td>High_spent_Large_value_payments</td>\n",
       "      <td>484.5912142650067</td>\n",
       "      <td>Good</td>\n",
       "    </tr>\n",
       "    <tr>\n",
       "      <th>10</th>\n",
       "      <td>0x1610</td>\n",
       "      <td>CUS_0x21b1</td>\n",
       "      <td>March</td>\n",
       "      <td>Rick Rothackerj</td>\n",
       "      <td>28</td>\n",
       "      <td>004-07-5839</td>\n",
       "      <td>Teacher</td>\n",
       "      <td>34847.84_</td>\n",
       "      <td>3037.986667</td>\n",
       "      <td>2</td>\n",
       "      <td>...</td>\n",
       "      <td>_</td>\n",
       "      <td>605.03</td>\n",
       "      <td>33.224951</td>\n",
       "      <td>26 Years and 9 Months</td>\n",
       "      <td>No</td>\n",
       "      <td>18.816215</td>\n",
       "      <td>58.51597569589465</td>\n",
       "      <td>High_spent_Large_value_payments</td>\n",
       "      <td>466.46647639764313</td>\n",
       "      <td>Standard</td>\n",
       "    </tr>\n",
       "    <tr>\n",
       "      <th>...</th>\n",
       "      <td>...</td>\n",
       "      <td>...</td>\n",
       "      <td>...</td>\n",
       "      <td>...</td>\n",
       "      <td>...</td>\n",
       "      <td>...</td>\n",
       "      <td>...</td>\n",
       "      <td>...</td>\n",
       "      <td>...</td>\n",
       "      <td>...</td>\n",
       "      <td>...</td>\n",
       "      <td>...</td>\n",
       "      <td>...</td>\n",
       "      <td>...</td>\n",
       "      <td>...</td>\n",
       "      <td>...</td>\n",
       "      <td>...</td>\n",
       "      <td>...</td>\n",
       "      <td>...</td>\n",
       "      <td>...</td>\n",
       "      <td>...</td>\n",
       "    </tr>\n",
       "    <tr>\n",
       "      <th>99994</th>\n",
       "      <td>0x25fe8</td>\n",
       "      <td>CUS_0x942c</td>\n",
       "      <td>March</td>\n",
       "      <td>Nicks</td>\n",
       "      <td>25</td>\n",
       "      <td>078-73-5990</td>\n",
       "      <td>Mechanic</td>\n",
       "      <td>39628.99</td>\n",
       "      <td>3359.415833</td>\n",
       "      <td>4</td>\n",
       "      <td>...</td>\n",
       "      <td>_</td>\n",
       "      <td>502.38</td>\n",
       "      <td>39.323569</td>\n",
       "      <td>31 Years and 5 Months</td>\n",
       "      <td>No</td>\n",
       "      <td>35.104023</td>\n",
       "      <td>140.58140274528395</td>\n",
       "      <td>High_spent_Medium_value_payments</td>\n",
       "      <td>410.256158</td>\n",
       "      <td>Poor</td>\n",
       "    </tr>\n",
       "    <tr>\n",
       "      <th>99995</th>\n",
       "      <td>0x25fe9</td>\n",
       "      <td>CUS_0x942c</td>\n",
       "      <td>April</td>\n",
       "      <td>Nicks</td>\n",
       "      <td>25</td>\n",
       "      <td>078-73-5990</td>\n",
       "      <td>Mechanic</td>\n",
       "      <td>39628.99</td>\n",
       "      <td>3359.415833</td>\n",
       "      <td>4</td>\n",
       "      <td>...</td>\n",
       "      <td>_</td>\n",
       "      <td>502.38</td>\n",
       "      <td>34.663572</td>\n",
       "      <td>31 Years and 6 Months</td>\n",
       "      <td>No</td>\n",
       "      <td>35.104023</td>\n",
       "      <td>60.97133255718485</td>\n",
       "      <td>High_spent_Large_value_payments</td>\n",
       "      <td>479.866228</td>\n",
       "      <td>Poor</td>\n",
       "    </tr>\n",
       "    <tr>\n",
       "      <th>99996</th>\n",
       "      <td>0x25fea</td>\n",
       "      <td>CUS_0x942c</td>\n",
       "      <td>May</td>\n",
       "      <td>Nicks</td>\n",
       "      <td>25</td>\n",
       "      <td>078-73-5990</td>\n",
       "      <td>Mechanic</td>\n",
       "      <td>39628.99</td>\n",
       "      <td>3359.415833</td>\n",
       "      <td>4</td>\n",
       "      <td>...</td>\n",
       "      <td>_</td>\n",
       "      <td>502.38</td>\n",
       "      <td>40.565631</td>\n",
       "      <td>31 Years and 7 Months</td>\n",
       "      <td>No</td>\n",
       "      <td>35.104023</td>\n",
       "      <td>54.18595028760385</td>\n",
       "      <td>High_spent_Medium_value_payments</td>\n",
       "      <td>496.65161</td>\n",
       "      <td>Poor</td>\n",
       "    </tr>\n",
       "    <tr>\n",
       "      <th>99997</th>\n",
       "      <td>0x25feb</td>\n",
       "      <td>CUS_0x942c</td>\n",
       "      <td>June</td>\n",
       "      <td>Nicks</td>\n",
       "      <td>25</td>\n",
       "      <td>078-73-5990</td>\n",
       "      <td>Mechanic</td>\n",
       "      <td>39628.99</td>\n",
       "      <td>3359.415833</td>\n",
       "      <td>4</td>\n",
       "      <td>...</td>\n",
       "      <td>Good</td>\n",
       "      <td>502.38</td>\n",
       "      <td>41.255522</td>\n",
       "      <td>31 Years and 8 Months</td>\n",
       "      <td>No</td>\n",
       "      <td>35.104023</td>\n",
       "      <td>24.02847744864441</td>\n",
       "      <td>High_spent_Large_value_payments</td>\n",
       "      <td>516.809083</td>\n",
       "      <td>Poor</td>\n",
       "    </tr>\n",
       "    <tr>\n",
       "      <th>99999</th>\n",
       "      <td>0x25fed</td>\n",
       "      <td>CUS_0x942c</td>\n",
       "      <td>August</td>\n",
       "      <td>Nicks</td>\n",
       "      <td>25</td>\n",
       "      <td>078-73-5990</td>\n",
       "      <td>Mechanic</td>\n",
       "      <td>39628.99_</td>\n",
       "      <td>3359.415833</td>\n",
       "      <td>4</td>\n",
       "      <td>...</td>\n",
       "      <td>Good</td>\n",
       "      <td>502.38</td>\n",
       "      <td>34.192463</td>\n",
       "      <td>31 Years and 10 Months</td>\n",
       "      <td>No</td>\n",
       "      <td>35.104023</td>\n",
       "      <td>167.1638651610451</td>\n",
       "      <td>!@9#%8</td>\n",
       "      <td>393.673696</td>\n",
       "      <td>Poor</td>\n",
       "    </tr>\n",
       "  </tbody>\n",
       "</table>\n",
       "<p>53049 rows × 28 columns</p>\n",
       "</div>"
      ],
      "text/plain": [
       "            ID Customer_ID     Month             Name  Age          SSN  \\\n",
       "0       0x1602   CUS_0xd40   January    Aaron Maashoh   23  821-00-0265   \n",
       "6       0x1608   CUS_0xd40      July    Aaron Maashoh   23  821-00-0265   \n",
       "8       0x160e  CUS_0x21b1   January  Rick Rothackerj  28_  004-07-5839   \n",
       "9       0x160f  CUS_0x21b1  February  Rick Rothackerj   28  004-07-5839   \n",
       "10      0x1610  CUS_0x21b1     March  Rick Rothackerj   28  004-07-5839   \n",
       "...        ...         ...       ...              ...  ...          ...   \n",
       "99994  0x25fe8  CUS_0x942c     March            Nicks   25  078-73-5990   \n",
       "99995  0x25fe9  CUS_0x942c     April            Nicks   25  078-73-5990   \n",
       "99996  0x25fea  CUS_0x942c       May            Nicks   25  078-73-5990   \n",
       "99997  0x25feb  CUS_0x942c      June            Nicks   25  078-73-5990   \n",
       "99999  0x25fed  CUS_0x942c    August            Nicks   25  078-73-5990   \n",
       "\n",
       "      Occupation Annual_Income  Monthly_Inhand_Salary  Num_Bank_Accounts  ...  \\\n",
       "0      Scientist      19114.12            1824.843333                  3  ...   \n",
       "6      Scientist      19114.12            1824.843333                  3  ...   \n",
       "8        _______      34847.84            3037.986667                  2  ...   \n",
       "9        Teacher      34847.84            3037.986667                  2  ...   \n",
       "10       Teacher     34847.84_            3037.986667                  2  ...   \n",
       "...          ...           ...                    ...                ...  ...   \n",
       "99994   Mechanic      39628.99            3359.415833                  4  ...   \n",
       "99995   Mechanic      39628.99            3359.415833                  4  ...   \n",
       "99996   Mechanic      39628.99            3359.415833                  4  ...   \n",
       "99997   Mechanic      39628.99            3359.415833                  4  ...   \n",
       "99999   Mechanic     39628.99_            3359.415833                  4  ...   \n",
       "\n",
       "       Credit_Mix  Outstanding_Debt Credit_Utilization_Ratio  \\\n",
       "0               _            809.98                26.822620   \n",
       "6            Good            809.98                22.537593   \n",
       "8            Good            605.03                24.464031   \n",
       "9            Good            605.03                38.550848   \n",
       "10              _            605.03                33.224951   \n",
       "...           ...               ...                      ...   \n",
       "99994           _            502.38                39.323569   \n",
       "99995           _            502.38                34.663572   \n",
       "99996           _            502.38                40.565631   \n",
       "99997        Good            502.38                41.255522   \n",
       "99999        Good            502.38                34.192463   \n",
       "\n",
       "           Credit_History_Age  Payment_of_Min_Amount Total_EMI_per_month  \\\n",
       "0       22 Years and 1 Months                     No           49.574949   \n",
       "6       22 Years and 7 Months                     No           49.574949   \n",
       "8       26 Years and 7 Months                     No           18.816215   \n",
       "9       26 Years and 8 Months                     No           18.816215   \n",
       "10      26 Years and 9 Months                     No           18.816215   \n",
       "...                       ...                    ...                 ...   \n",
       "99994   31 Years and 5 Months                     No           35.104023   \n",
       "99995   31 Years and 6 Months                     No           35.104023   \n",
       "99996   31 Years and 7 Months                     No           35.104023   \n",
       "99997   31 Years and 8 Months                     No           35.104023   \n",
       "99999  31 Years and 10 Months                     No           35.104023   \n",
       "\n",
       "      Amount_invested_monthly                 Payment_Behaviour  \\\n",
       "0           80.41529543900253   High_spent_Small_value_payments   \n",
       "6           178.3440674122349    Low_spent_Small_value_payments   \n",
       "8            104.291825168246    Low_spent_Small_value_payments   \n",
       "9           40.39123782853101   High_spent_Large_value_payments   \n",
       "10          58.51597569589465   High_spent_Large_value_payments   \n",
       "...                       ...                               ...   \n",
       "99994      140.58140274528395  High_spent_Medium_value_payments   \n",
       "99995       60.97133255718485   High_spent_Large_value_payments   \n",
       "99996       54.18595028760385  High_spent_Medium_value_payments   \n",
       "99997       24.02847744864441   High_spent_Large_value_payments   \n",
       "99999       167.1638651610451                            !@9#%8   \n",
       "\n",
       "          Monthly_Balance Credit_Score  \n",
       "0      312.49408867943663         Good  \n",
       "6       244.5653167062043         Good  \n",
       "8      470.69062692529184     Standard  \n",
       "9       484.5912142650067         Good  \n",
       "10     466.46647639764313     Standard  \n",
       "...                   ...          ...  \n",
       "99994          410.256158         Poor  \n",
       "99995          479.866228         Poor  \n",
       "99996           496.65161         Poor  \n",
       "99997          516.809083         Poor  \n",
       "99999          393.673696         Poor  \n",
       "\n",
       "[53049 rows x 28 columns]"
      ]
     },
     "execution_count": 121,
     "metadata": {},
     "output_type": "execute_result"
    }
   ],
   "source": [
    "dfnew=df.dropna()\n",
    "dfnew"
   ]
  },
  {
   "cell_type": "code",
   "execution_count": 122,
   "metadata": {},
   "outputs": [
    {
     "name": "stdout",
     "output_type": "stream",
     "text": [
      "<class 'pandas.core.frame.DataFrame'>\n",
      "Int64Index: 53049 entries, 0 to 99999\n",
      "Data columns (total 28 columns):\n",
      " #   Column                    Non-Null Count  Dtype  \n",
      "---  ------                    --------------  -----  \n",
      " 0   ID                        53049 non-null  object \n",
      " 1   Customer_ID               53049 non-null  object \n",
      " 2   Month                     53049 non-null  object \n",
      " 3   Name                      53049 non-null  object \n",
      " 4   Age                       53049 non-null  object \n",
      " 5   SSN                       53049 non-null  object \n",
      " 6   Occupation                53049 non-null  object \n",
      " 7   Annual_Income             53049 non-null  object \n",
      " 8   Monthly_Inhand_Salary     53049 non-null  float64\n",
      " 9   Num_Bank_Accounts         53049 non-null  int64  \n",
      " 10  Num_Credit_Card           53049 non-null  int64  \n",
      " 11  Interest_Rate             53049 non-null  int64  \n",
      " 12  Num_of_Loan               53049 non-null  object \n",
      " 13  Type_of_Loan              53049 non-null  object \n",
      " 14  Delay_from_due_date       53049 non-null  int64  \n",
      " 15  Num_of_Delayed_Payment    53049 non-null  object \n",
      " 16  Changed_Credit_Limit      53049 non-null  object \n",
      " 17  Num_Credit_Inquiries      53049 non-null  float64\n",
      " 18  Credit_Mix                53049 non-null  object \n",
      " 19  Outstanding_Debt          53049 non-null  object \n",
      " 20  Credit_Utilization_Ratio  53049 non-null  float64\n",
      " 21  Credit_History_Age        53049 non-null  object \n",
      " 22  Payment_of_Min_Amount     53049 non-null  object \n",
      " 23  Total_EMI_per_month       53049 non-null  float64\n",
      " 24  Amount_invested_monthly   53049 non-null  object \n",
      " 25  Payment_Behaviour         53049 non-null  object \n",
      " 26  Monthly_Balance           53049 non-null  object \n",
      " 27  Credit_Score              53049 non-null  object \n",
      "dtypes: float64(4), int64(4), object(20)\n",
      "memory usage: 11.7+ MB\n"
     ]
    }
   ],
   "source": [
    "dfnew.info()"
   ]
  },
  {
   "cell_type": "code",
   "execution_count": 123,
   "metadata": {},
   "outputs": [
    {
     "data": {
      "text/plain": [
       "'Data Lost-46.95 %'"
      ]
     },
     "execution_count": 123,
     "metadata": {},
     "output_type": "execute_result"
    }
   ],
   "source": [
    "data_lost=(len(df)-len(dfnew))*100/len(df)\n",
    "f\"Data Lost-{data_lost:0.2f} %\""
   ]
  },
  {
   "cell_type": "code",
   "execution_count": null,
   "metadata": {},
   "outputs": [],
   "source": []
  },
  {
   "cell_type": "code",
   "execution_count": 124,
   "metadata": {},
   "outputs": [],
   "source": [
    "df.drop(\"Name\",axis=1,inplace=True)\n"
   ]
  },
  {
   "cell_type": "code",
   "execution_count": 125,
   "metadata": {},
   "outputs": [
    {
     "data": {
      "text/html": [
       "<div>\n",
       "<style scoped>\n",
       "    .dataframe tbody tr th:only-of-type {\n",
       "        vertical-align: middle;\n",
       "    }\n",
       "\n",
       "    .dataframe tbody tr th {\n",
       "        vertical-align: top;\n",
       "    }\n",
       "\n",
       "    .dataframe thead th {\n",
       "        text-align: right;\n",
       "    }\n",
       "</style>\n",
       "<table border=\"1\" class=\"dataframe\">\n",
       "  <thead>\n",
       "    <tr style=\"text-align: right;\">\n",
       "      <th></th>\n",
       "      <th>ID</th>\n",
       "      <th>Customer_ID</th>\n",
       "      <th>Month</th>\n",
       "      <th>Age</th>\n",
       "      <th>SSN</th>\n",
       "      <th>Occupation</th>\n",
       "      <th>Annual_Income</th>\n",
       "      <th>Monthly_Inhand_Salary</th>\n",
       "      <th>Num_Bank_Accounts</th>\n",
       "      <th>Num_Credit_Card</th>\n",
       "      <th>...</th>\n",
       "      <th>Credit_Mix</th>\n",
       "      <th>Outstanding_Debt</th>\n",
       "      <th>Credit_Utilization_Ratio</th>\n",
       "      <th>Credit_History_Age</th>\n",
       "      <th>Payment_of_Min_Amount</th>\n",
       "      <th>Total_EMI_per_month</th>\n",
       "      <th>Amount_invested_monthly</th>\n",
       "      <th>Payment_Behaviour</th>\n",
       "      <th>Monthly_Balance</th>\n",
       "      <th>Credit_Score</th>\n",
       "    </tr>\n",
       "  </thead>\n",
       "  <tbody>\n",
       "    <tr>\n",
       "      <th>0</th>\n",
       "      <td>0x1602</td>\n",
       "      <td>CUS_0xd40</td>\n",
       "      <td>January</td>\n",
       "      <td>23</td>\n",
       "      <td>821-00-0265</td>\n",
       "      <td>Scientist</td>\n",
       "      <td>19114.12</td>\n",
       "      <td>1824.843333</td>\n",
       "      <td>3</td>\n",
       "      <td>4</td>\n",
       "      <td>...</td>\n",
       "      <td>_</td>\n",
       "      <td>809.98</td>\n",
       "      <td>26.822620</td>\n",
       "      <td>22 Years and 1 Months</td>\n",
       "      <td>No</td>\n",
       "      <td>49.574949</td>\n",
       "      <td>80.41529543900253</td>\n",
       "      <td>High_spent_Small_value_payments</td>\n",
       "      <td>312.49408867943663</td>\n",
       "      <td>Good</td>\n",
       "    </tr>\n",
       "    <tr>\n",
       "      <th>1</th>\n",
       "      <td>0x1603</td>\n",
       "      <td>CUS_0xd40</td>\n",
       "      <td>February</td>\n",
       "      <td>23</td>\n",
       "      <td>821-00-0265</td>\n",
       "      <td>Scientist</td>\n",
       "      <td>19114.12</td>\n",
       "      <td>NaN</td>\n",
       "      <td>3</td>\n",
       "      <td>4</td>\n",
       "      <td>...</td>\n",
       "      <td>Good</td>\n",
       "      <td>809.98</td>\n",
       "      <td>31.944960</td>\n",
       "      <td>NaN</td>\n",
       "      <td>No</td>\n",
       "      <td>49.574949</td>\n",
       "      <td>118.28022162236736</td>\n",
       "      <td>Low_spent_Large_value_payments</td>\n",
       "      <td>284.62916249607184</td>\n",
       "      <td>Good</td>\n",
       "    </tr>\n",
       "    <tr>\n",
       "      <th>2</th>\n",
       "      <td>0x1604</td>\n",
       "      <td>CUS_0xd40</td>\n",
       "      <td>March</td>\n",
       "      <td>-500</td>\n",
       "      <td>821-00-0265</td>\n",
       "      <td>Scientist</td>\n",
       "      <td>19114.12</td>\n",
       "      <td>NaN</td>\n",
       "      <td>3</td>\n",
       "      <td>4</td>\n",
       "      <td>...</td>\n",
       "      <td>Good</td>\n",
       "      <td>809.98</td>\n",
       "      <td>28.609352</td>\n",
       "      <td>22 Years and 3 Months</td>\n",
       "      <td>No</td>\n",
       "      <td>49.574949</td>\n",
       "      <td>81.699521264648</td>\n",
       "      <td>Low_spent_Medium_value_payments</td>\n",
       "      <td>331.2098628537912</td>\n",
       "      <td>Good</td>\n",
       "    </tr>\n",
       "    <tr>\n",
       "      <th>3</th>\n",
       "      <td>0x1605</td>\n",
       "      <td>CUS_0xd40</td>\n",
       "      <td>April</td>\n",
       "      <td>23</td>\n",
       "      <td>821-00-0265</td>\n",
       "      <td>Scientist</td>\n",
       "      <td>19114.12</td>\n",
       "      <td>NaN</td>\n",
       "      <td>3</td>\n",
       "      <td>4</td>\n",
       "      <td>...</td>\n",
       "      <td>Good</td>\n",
       "      <td>809.98</td>\n",
       "      <td>31.377862</td>\n",
       "      <td>22 Years and 4 Months</td>\n",
       "      <td>No</td>\n",
       "      <td>49.574949</td>\n",
       "      <td>199.4580743910713</td>\n",
       "      <td>Low_spent_Small_value_payments</td>\n",
       "      <td>223.45130972736786</td>\n",
       "      <td>Good</td>\n",
       "    </tr>\n",
       "    <tr>\n",
       "      <th>4</th>\n",
       "      <td>0x1606</td>\n",
       "      <td>CUS_0xd40</td>\n",
       "      <td>May</td>\n",
       "      <td>23</td>\n",
       "      <td>821-00-0265</td>\n",
       "      <td>Scientist</td>\n",
       "      <td>19114.12</td>\n",
       "      <td>1824.843333</td>\n",
       "      <td>3</td>\n",
       "      <td>4</td>\n",
       "      <td>...</td>\n",
       "      <td>Good</td>\n",
       "      <td>809.98</td>\n",
       "      <td>24.797347</td>\n",
       "      <td>22 Years and 5 Months</td>\n",
       "      <td>No</td>\n",
       "      <td>49.574949</td>\n",
       "      <td>41.420153086217326</td>\n",
       "      <td>High_spent_Medium_value_payments</td>\n",
       "      <td>341.48923103222177</td>\n",
       "      <td>Good</td>\n",
       "    </tr>\n",
       "  </tbody>\n",
       "</table>\n",
       "<p>5 rows × 27 columns</p>\n",
       "</div>"
      ],
      "text/plain": [
       "       ID Customer_ID     Month   Age          SSN Occupation Annual_Income  \\\n",
       "0  0x1602   CUS_0xd40   January    23  821-00-0265  Scientist      19114.12   \n",
       "1  0x1603   CUS_0xd40  February    23  821-00-0265  Scientist      19114.12   \n",
       "2  0x1604   CUS_0xd40     March  -500  821-00-0265  Scientist      19114.12   \n",
       "3  0x1605   CUS_0xd40     April    23  821-00-0265  Scientist      19114.12   \n",
       "4  0x1606   CUS_0xd40       May    23  821-00-0265  Scientist      19114.12   \n",
       "\n",
       "   Monthly_Inhand_Salary  Num_Bank_Accounts  Num_Credit_Card  ...  Credit_Mix  \\\n",
       "0            1824.843333                  3                4  ...           _   \n",
       "1                    NaN                  3                4  ...        Good   \n",
       "2                    NaN                  3                4  ...        Good   \n",
       "3                    NaN                  3                4  ...        Good   \n",
       "4            1824.843333                  3                4  ...        Good   \n",
       "\n",
       "  Outstanding_Debt Credit_Utilization_Ratio     Credit_History_Age  \\\n",
       "0           809.98                26.822620  22 Years and 1 Months   \n",
       "1           809.98                31.944960                    NaN   \n",
       "2           809.98                28.609352  22 Years and 3 Months   \n",
       "3           809.98                31.377862  22 Years and 4 Months   \n",
       "4           809.98                24.797347  22 Years and 5 Months   \n",
       "\n",
       "  Payment_of_Min_Amount Total_EMI_per_month  Amount_invested_monthly  \\\n",
       "0                    No           49.574949        80.41529543900253   \n",
       "1                    No           49.574949       118.28022162236736   \n",
       "2                    No           49.574949          81.699521264648   \n",
       "3                    No           49.574949        199.4580743910713   \n",
       "4                    No           49.574949       41.420153086217326   \n",
       "\n",
       "                  Payment_Behaviour     Monthly_Balance  Credit_Score  \n",
       "0   High_spent_Small_value_payments  312.49408867943663          Good  \n",
       "1    Low_spent_Large_value_payments  284.62916249607184          Good  \n",
       "2   Low_spent_Medium_value_payments   331.2098628537912          Good  \n",
       "3    Low_spent_Small_value_payments  223.45130972736786          Good  \n",
       "4  High_spent_Medium_value_payments  341.48923103222177          Good  \n",
       "\n",
       "[5 rows x 27 columns]"
      ]
     },
     "execution_count": 125,
     "metadata": {},
     "output_type": "execute_result"
    }
   ],
   "source": [
    "df.head()"
   ]
  },
  {
   "cell_type": "code",
   "execution_count": 126,
   "metadata": {},
   "outputs": [
    {
     "name": "stdout",
     "output_type": "stream",
     "text": [
      "<class 'pandas.core.frame.DataFrame'>\n",
      "RangeIndex: 100000 entries, 0 to 99999\n",
      "Data columns (total 27 columns):\n",
      " #   Column                    Non-Null Count   Dtype  \n",
      "---  ------                    --------------   -----  \n",
      " 0   ID                        100000 non-null  object \n",
      " 1   Customer_ID               100000 non-null  object \n",
      " 2   Month                     100000 non-null  object \n",
      " 3   Age                       100000 non-null  object \n",
      " 4   SSN                       100000 non-null  object \n",
      " 5   Occupation                100000 non-null  object \n",
      " 6   Annual_Income             100000 non-null  object \n",
      " 7   Monthly_Inhand_Salary     84998 non-null   float64\n",
      " 8   Num_Bank_Accounts         100000 non-null  int64  \n",
      " 9   Num_Credit_Card           100000 non-null  int64  \n",
      " 10  Interest_Rate             100000 non-null  int64  \n",
      " 11  Num_of_Loan               100000 non-null  object \n",
      " 12  Type_of_Loan              88592 non-null   object \n",
      " 13  Delay_from_due_date       100000 non-null  int64  \n",
      " 14  Num_of_Delayed_Payment    92998 non-null   object \n",
      " 15  Changed_Credit_Limit      100000 non-null  object \n",
      " 16  Num_Credit_Inquiries      98035 non-null   float64\n",
      " 17  Credit_Mix                100000 non-null  object \n",
      " 18  Outstanding_Debt          100000 non-null  object \n",
      " 19  Credit_Utilization_Ratio  100000 non-null  float64\n",
      " 20  Credit_History_Age        90970 non-null   object \n",
      " 21  Payment_of_Min_Amount     100000 non-null  object \n",
      " 22  Total_EMI_per_month       100000 non-null  float64\n",
      " 23  Amount_invested_monthly   95521 non-null   object \n",
      " 24  Payment_Behaviour         100000 non-null  object \n",
      " 25  Monthly_Balance           98800 non-null   object \n",
      " 26  Credit_Score              100000 non-null  object \n",
      "dtypes: float64(4), int64(4), object(19)\n",
      "memory usage: 20.6+ MB\n"
     ]
    }
   ],
   "source": [
    "df.info()"
   ]
  },
  {
   "cell_type": "code",
   "execution_count": 127,
   "metadata": {},
   "outputs": [
    {
     "data": {
      "text/html": [
       "<div>\n",
       "<style scoped>\n",
       "    .dataframe tbody tr th:only-of-type {\n",
       "        vertical-align: middle;\n",
       "    }\n",
       "\n",
       "    .dataframe tbody tr th {\n",
       "        vertical-align: top;\n",
       "    }\n",
       "\n",
       "    .dataframe thead th {\n",
       "        text-align: right;\n",
       "    }\n",
       "</style>\n",
       "<table border=\"1\" class=\"dataframe\">\n",
       "  <thead>\n",
       "    <tr style=\"text-align: right;\">\n",
       "      <th></th>\n",
       "      <th>count</th>\n",
       "      <th>mean</th>\n",
       "      <th>std</th>\n",
       "      <th>min</th>\n",
       "      <th>25%</th>\n",
       "      <th>50%</th>\n",
       "      <th>75%</th>\n",
       "      <th>max</th>\n",
       "    </tr>\n",
       "  </thead>\n",
       "  <tbody>\n",
       "    <tr>\n",
       "      <th>Monthly_Inhand_Salary</th>\n",
       "      <td>84998.0</td>\n",
       "      <td>4194.170850</td>\n",
       "      <td>3183.686167</td>\n",
       "      <td>303.645417</td>\n",
       "      <td>1625.568229</td>\n",
       "      <td>3093.745000</td>\n",
       "      <td>5957.448333</td>\n",
       "      <td>15204.633333</td>\n",
       "    </tr>\n",
       "    <tr>\n",
       "      <th>Num_Bank_Accounts</th>\n",
       "      <td>100000.0</td>\n",
       "      <td>17.091280</td>\n",
       "      <td>117.404834</td>\n",
       "      <td>-1.000000</td>\n",
       "      <td>3.000000</td>\n",
       "      <td>6.000000</td>\n",
       "      <td>7.000000</td>\n",
       "      <td>1798.000000</td>\n",
       "    </tr>\n",
       "    <tr>\n",
       "      <th>Num_Credit_Card</th>\n",
       "      <td>100000.0</td>\n",
       "      <td>22.474430</td>\n",
       "      <td>129.057410</td>\n",
       "      <td>0.000000</td>\n",
       "      <td>4.000000</td>\n",
       "      <td>5.000000</td>\n",
       "      <td>7.000000</td>\n",
       "      <td>1499.000000</td>\n",
       "    </tr>\n",
       "    <tr>\n",
       "      <th>Interest_Rate</th>\n",
       "      <td>100000.0</td>\n",
       "      <td>72.466040</td>\n",
       "      <td>466.422621</td>\n",
       "      <td>1.000000</td>\n",
       "      <td>8.000000</td>\n",
       "      <td>13.000000</td>\n",
       "      <td>20.000000</td>\n",
       "      <td>5797.000000</td>\n",
       "    </tr>\n",
       "    <tr>\n",
       "      <th>Delay_from_due_date</th>\n",
       "      <td>100000.0</td>\n",
       "      <td>21.068780</td>\n",
       "      <td>14.860104</td>\n",
       "      <td>-5.000000</td>\n",
       "      <td>10.000000</td>\n",
       "      <td>18.000000</td>\n",
       "      <td>28.000000</td>\n",
       "      <td>67.000000</td>\n",
       "    </tr>\n",
       "    <tr>\n",
       "      <th>Num_Credit_Inquiries</th>\n",
       "      <td>98035.0</td>\n",
       "      <td>27.754251</td>\n",
       "      <td>193.177339</td>\n",
       "      <td>0.000000</td>\n",
       "      <td>3.000000</td>\n",
       "      <td>6.000000</td>\n",
       "      <td>9.000000</td>\n",
       "      <td>2597.000000</td>\n",
       "    </tr>\n",
       "    <tr>\n",
       "      <th>Credit_Utilization_Ratio</th>\n",
       "      <td>100000.0</td>\n",
       "      <td>32.285173</td>\n",
       "      <td>5.116875</td>\n",
       "      <td>20.000000</td>\n",
       "      <td>28.052567</td>\n",
       "      <td>32.305784</td>\n",
       "      <td>36.496663</td>\n",
       "      <td>50.000000</td>\n",
       "    </tr>\n",
       "    <tr>\n",
       "      <th>Total_EMI_per_month</th>\n",
       "      <td>100000.0</td>\n",
       "      <td>1403.118217</td>\n",
       "      <td>8306.041270</td>\n",
       "      <td>0.000000</td>\n",
       "      <td>30.306660</td>\n",
       "      <td>69.249473</td>\n",
       "      <td>161.224249</td>\n",
       "      <td>82331.000000</td>\n",
       "    </tr>\n",
       "  </tbody>\n",
       "</table>\n",
       "</div>"
      ],
      "text/plain": [
       "                             count         mean          std         min  \\\n",
       "Monthly_Inhand_Salary      84998.0  4194.170850  3183.686167  303.645417   \n",
       "Num_Bank_Accounts         100000.0    17.091280   117.404834   -1.000000   \n",
       "Num_Credit_Card           100000.0    22.474430   129.057410    0.000000   \n",
       "Interest_Rate             100000.0    72.466040   466.422621    1.000000   \n",
       "Delay_from_due_date       100000.0    21.068780    14.860104   -5.000000   \n",
       "Num_Credit_Inquiries       98035.0    27.754251   193.177339    0.000000   \n",
       "Credit_Utilization_Ratio  100000.0    32.285173     5.116875   20.000000   \n",
       "Total_EMI_per_month       100000.0  1403.118217  8306.041270    0.000000   \n",
       "\n",
       "                                  25%          50%          75%           max  \n",
       "Monthly_Inhand_Salary     1625.568229  3093.745000  5957.448333  15204.633333  \n",
       "Num_Bank_Accounts            3.000000     6.000000     7.000000   1798.000000  \n",
       "Num_Credit_Card              4.000000     5.000000     7.000000   1499.000000  \n",
       "Interest_Rate                8.000000    13.000000    20.000000   5797.000000  \n",
       "Delay_from_due_date         10.000000    18.000000    28.000000     67.000000  \n",
       "Num_Credit_Inquiries         3.000000     6.000000     9.000000   2597.000000  \n",
       "Credit_Utilization_Ratio    28.052567    32.305784    36.496663     50.000000  \n",
       "Total_EMI_per_month         30.306660    69.249473   161.224249  82331.000000  "
      ]
     },
     "execution_count": 127,
     "metadata": {},
     "output_type": "execute_result"
    }
   ],
   "source": [
    "df.describe().transpose()"
   ]
  },
  {
   "cell_type": "code",
   "execution_count": 128,
   "metadata": {},
   "outputs": [],
   "source": [
    "# plt.figure(figsize=(18,13))\n",
    "# sns.heatmap(df.corr(),annot=True)"
   ]
  },
  {
   "cell_type": "code",
   "execution_count": 129,
   "metadata": {},
   "outputs": [],
   "source": [
    "# sns.pairplot(df)"
   ]
  },
  {
   "cell_type": "markdown",
   "metadata": {},
   "source": [
    "# ---------------Credit_Score------------------"
   ]
  },
  {
   "cell_type": "code",
   "execution_count": 130,
   "metadata": {},
   "outputs": [
    {
     "data": {
      "text/plain": [
       "0            Good\n",
       "1            Good\n",
       "2            Good\n",
       "3            Good\n",
       "4            Good\n",
       "           ...   \n",
       "99995        Poor\n",
       "99996        Poor\n",
       "99997        Poor\n",
       "99998    Standard\n",
       "99999        Poor\n",
       "Name: Credit_Score, Length: 100000, dtype: object"
      ]
     },
     "execution_count": 130,
     "metadata": {},
     "output_type": "execute_result"
    }
   ],
   "source": [
    "df[\"Credit_Score\"]"
   ]
  },
  {
   "cell_type": "code",
   "execution_count": 131,
   "metadata": {},
   "outputs": [],
   "source": [
    "from sklearn.preprocessing import LabelEncoder\n",
    "lb=LabelEncoder()\n",
    "df[\"credit__score_label\"]=lb.fit_transform(df[\"Credit_Score\"])"
   ]
  },
  {
   "cell_type": "markdown",
   "metadata": {},
   "source": [
    "good=0\n",
    "standard=2\n",
    "poor=1"
   ]
  },
  {
   "cell_type": "code",
   "execution_count": 132,
   "metadata": {},
   "outputs": [],
   "source": [
    "df.drop(\"Credit_Score\",axis=1,inplace=True)"
   ]
  },
  {
   "cell_type": "code",
   "execution_count": 133,
   "metadata": {},
   "outputs": [],
   "source": [
    "# plt.figure(figsize=(18,13))\n",
    "# sns.heatmap(df.corr(),annot=True)"
   ]
  },
  {
   "cell_type": "code",
   "execution_count": 134,
   "metadata": {},
   "outputs": [],
   "source": [
    "# df.hist(figsize=(10,10))"
   ]
  },
  {
   "cell_type": "code",
   "execution_count": 135,
   "metadata": {},
   "outputs": [
    {
     "data": {
      "text/plain": [
       "Index(['ID', 'Customer_ID', 'Month', 'Age', 'SSN', 'Occupation',\n",
       "       'Annual_Income', 'Monthly_Inhand_Salary', 'Num_Bank_Accounts',\n",
       "       'Num_Credit_Card', 'Interest_Rate', 'Num_of_Loan', 'Type_of_Loan',\n",
       "       'Delay_from_due_date', 'Num_of_Delayed_Payment', 'Changed_Credit_Limit',\n",
       "       'Num_Credit_Inquiries', 'Credit_Mix', 'Outstanding_Debt',\n",
       "       'Credit_Utilization_Ratio', 'Credit_History_Age',\n",
       "       'Payment_of_Min_Amount', 'Total_EMI_per_month',\n",
       "       'Amount_invested_monthly', 'Payment_Behaviour', 'Monthly_Balance',\n",
       "       'credit__score_label'],\n",
       "      dtype='object')"
      ]
     },
     "execution_count": 135,
     "metadata": {},
     "output_type": "execute_result"
    }
   ],
   "source": [
    "df.columns"
   ]
  },
  {
   "cell_type": "markdown",
   "metadata": {},
   "source": [
    "here a lot of columns are out of model scope ,redundant and not so useful in this particular context of the issue at the hand so we have to drop them,name column was already dropped"
   ]
  },
  {
   "cell_type": "code",
   "execution_count": 136,
   "metadata": {},
   "outputs": [
    {
     "data": {
      "text/html": [
       "<div>\n",
       "<style scoped>\n",
       "    .dataframe tbody tr th:only-of-type {\n",
       "        vertical-align: middle;\n",
       "    }\n",
       "\n",
       "    .dataframe tbody tr th {\n",
       "        vertical-align: top;\n",
       "    }\n",
       "\n",
       "    .dataframe thead th {\n",
       "        text-align: right;\n",
       "    }\n",
       "</style>\n",
       "<table border=\"1\" class=\"dataframe\">\n",
       "  <thead>\n",
       "    <tr style=\"text-align: right;\">\n",
       "      <th></th>\n",
       "      <th>Age</th>\n",
       "      <th>Occupation</th>\n",
       "      <th>Annual_Income</th>\n",
       "      <th>Monthly_Inhand_Salary</th>\n",
       "      <th>Delay_from_due_date</th>\n",
       "      <th>Num_of_Delayed_Payment</th>\n",
       "      <th>Num_Credit_Inquiries</th>\n",
       "      <th>Credit_Mix</th>\n",
       "      <th>Outstanding_Debt</th>\n",
       "      <th>Credit_Utilization_Ratio</th>\n",
       "      <th>Credit_History_Age</th>\n",
       "      <th>Payment_of_Min_Amount</th>\n",
       "      <th>Total_EMI_per_month</th>\n",
       "      <th>Payment_Behaviour</th>\n",
       "      <th>Monthly_Balance</th>\n",
       "      <th>credit__score_label</th>\n",
       "    </tr>\n",
       "  </thead>\n",
       "  <tbody>\n",
       "    <tr>\n",
       "      <th>0</th>\n",
       "      <td>23</td>\n",
       "      <td>Scientist</td>\n",
       "      <td>19114.12</td>\n",
       "      <td>1824.843333</td>\n",
       "      <td>3</td>\n",
       "      <td>7</td>\n",
       "      <td>4.0</td>\n",
       "      <td>_</td>\n",
       "      <td>809.98</td>\n",
       "      <td>26.822620</td>\n",
       "      <td>22 Years and 1 Months</td>\n",
       "      <td>No</td>\n",
       "      <td>49.574949</td>\n",
       "      <td>High_spent_Small_value_payments</td>\n",
       "      <td>312.49408867943663</td>\n",
       "      <td>0</td>\n",
       "    </tr>\n",
       "    <tr>\n",
       "      <th>1</th>\n",
       "      <td>23</td>\n",
       "      <td>Scientist</td>\n",
       "      <td>19114.12</td>\n",
       "      <td>NaN</td>\n",
       "      <td>-1</td>\n",
       "      <td>NaN</td>\n",
       "      <td>4.0</td>\n",
       "      <td>Good</td>\n",
       "      <td>809.98</td>\n",
       "      <td>31.944960</td>\n",
       "      <td>NaN</td>\n",
       "      <td>No</td>\n",
       "      <td>49.574949</td>\n",
       "      <td>Low_spent_Large_value_payments</td>\n",
       "      <td>284.62916249607184</td>\n",
       "      <td>0</td>\n",
       "    </tr>\n",
       "    <tr>\n",
       "      <th>2</th>\n",
       "      <td>-500</td>\n",
       "      <td>Scientist</td>\n",
       "      <td>19114.12</td>\n",
       "      <td>NaN</td>\n",
       "      <td>3</td>\n",
       "      <td>7</td>\n",
       "      <td>4.0</td>\n",
       "      <td>Good</td>\n",
       "      <td>809.98</td>\n",
       "      <td>28.609352</td>\n",
       "      <td>22 Years and 3 Months</td>\n",
       "      <td>No</td>\n",
       "      <td>49.574949</td>\n",
       "      <td>Low_spent_Medium_value_payments</td>\n",
       "      <td>331.2098628537912</td>\n",
       "      <td>0</td>\n",
       "    </tr>\n",
       "    <tr>\n",
       "      <th>3</th>\n",
       "      <td>23</td>\n",
       "      <td>Scientist</td>\n",
       "      <td>19114.12</td>\n",
       "      <td>NaN</td>\n",
       "      <td>5</td>\n",
       "      <td>4</td>\n",
       "      <td>4.0</td>\n",
       "      <td>Good</td>\n",
       "      <td>809.98</td>\n",
       "      <td>31.377862</td>\n",
       "      <td>22 Years and 4 Months</td>\n",
       "      <td>No</td>\n",
       "      <td>49.574949</td>\n",
       "      <td>Low_spent_Small_value_payments</td>\n",
       "      <td>223.45130972736786</td>\n",
       "      <td>0</td>\n",
       "    </tr>\n",
       "    <tr>\n",
       "      <th>4</th>\n",
       "      <td>23</td>\n",
       "      <td>Scientist</td>\n",
       "      <td>19114.12</td>\n",
       "      <td>1824.843333</td>\n",
       "      <td>6</td>\n",
       "      <td>NaN</td>\n",
       "      <td>4.0</td>\n",
       "      <td>Good</td>\n",
       "      <td>809.98</td>\n",
       "      <td>24.797347</td>\n",
       "      <td>22 Years and 5 Months</td>\n",
       "      <td>No</td>\n",
       "      <td>49.574949</td>\n",
       "      <td>High_spent_Medium_value_payments</td>\n",
       "      <td>341.48923103222177</td>\n",
       "      <td>0</td>\n",
       "    </tr>\n",
       "    <tr>\n",
       "      <th>...</th>\n",
       "      <td>...</td>\n",
       "      <td>...</td>\n",
       "      <td>...</td>\n",
       "      <td>...</td>\n",
       "      <td>...</td>\n",
       "      <td>...</td>\n",
       "      <td>...</td>\n",
       "      <td>...</td>\n",
       "      <td>...</td>\n",
       "      <td>...</td>\n",
       "      <td>...</td>\n",
       "      <td>...</td>\n",
       "      <td>...</td>\n",
       "      <td>...</td>\n",
       "      <td>...</td>\n",
       "      <td>...</td>\n",
       "    </tr>\n",
       "    <tr>\n",
       "      <th>99995</th>\n",
       "      <td>25</td>\n",
       "      <td>Mechanic</td>\n",
       "      <td>39628.99</td>\n",
       "      <td>3359.415833</td>\n",
       "      <td>23</td>\n",
       "      <td>7</td>\n",
       "      <td>3.0</td>\n",
       "      <td>_</td>\n",
       "      <td>502.38</td>\n",
       "      <td>34.663572</td>\n",
       "      <td>31 Years and 6 Months</td>\n",
       "      <td>No</td>\n",
       "      <td>35.104023</td>\n",
       "      <td>High_spent_Large_value_payments</td>\n",
       "      <td>479.866228</td>\n",
       "      <td>1</td>\n",
       "    </tr>\n",
       "    <tr>\n",
       "      <th>99996</th>\n",
       "      <td>25</td>\n",
       "      <td>Mechanic</td>\n",
       "      <td>39628.99</td>\n",
       "      <td>3359.415833</td>\n",
       "      <td>18</td>\n",
       "      <td>7</td>\n",
       "      <td>3.0</td>\n",
       "      <td>_</td>\n",
       "      <td>502.38</td>\n",
       "      <td>40.565631</td>\n",
       "      <td>31 Years and 7 Months</td>\n",
       "      <td>No</td>\n",
       "      <td>35.104023</td>\n",
       "      <td>High_spent_Medium_value_payments</td>\n",
       "      <td>496.65161</td>\n",
       "      <td>1</td>\n",
       "    </tr>\n",
       "    <tr>\n",
       "      <th>99997</th>\n",
       "      <td>25</td>\n",
       "      <td>Mechanic</td>\n",
       "      <td>39628.99</td>\n",
       "      <td>3359.415833</td>\n",
       "      <td>27</td>\n",
       "      <td>6</td>\n",
       "      <td>3.0</td>\n",
       "      <td>Good</td>\n",
       "      <td>502.38</td>\n",
       "      <td>41.255522</td>\n",
       "      <td>31 Years and 8 Months</td>\n",
       "      <td>No</td>\n",
       "      <td>35.104023</td>\n",
       "      <td>High_spent_Large_value_payments</td>\n",
       "      <td>516.809083</td>\n",
       "      <td>1</td>\n",
       "    </tr>\n",
       "    <tr>\n",
       "      <th>99998</th>\n",
       "      <td>25</td>\n",
       "      <td>Mechanic</td>\n",
       "      <td>39628.99</td>\n",
       "      <td>3359.415833</td>\n",
       "      <td>20</td>\n",
       "      <td>NaN</td>\n",
       "      <td>3.0</td>\n",
       "      <td>Good</td>\n",
       "      <td>502.38</td>\n",
       "      <td>33.638208</td>\n",
       "      <td>31 Years and 9 Months</td>\n",
       "      <td>No</td>\n",
       "      <td>35.104023</td>\n",
       "      <td>Low_spent_Large_value_payments</td>\n",
       "      <td>319.164979</td>\n",
       "      <td>2</td>\n",
       "    </tr>\n",
       "    <tr>\n",
       "      <th>99999</th>\n",
       "      <td>25</td>\n",
       "      <td>Mechanic</td>\n",
       "      <td>39628.99_</td>\n",
       "      <td>3359.415833</td>\n",
       "      <td>18</td>\n",
       "      <td>6</td>\n",
       "      <td>3.0</td>\n",
       "      <td>Good</td>\n",
       "      <td>502.38</td>\n",
       "      <td>34.192463</td>\n",
       "      <td>31 Years and 10 Months</td>\n",
       "      <td>No</td>\n",
       "      <td>35.104023</td>\n",
       "      <td>!@9#%8</td>\n",
       "      <td>393.673696</td>\n",
       "      <td>1</td>\n",
       "    </tr>\n",
       "  </tbody>\n",
       "</table>\n",
       "<p>100000 rows × 16 columns</p>\n",
       "</div>"
      ],
      "text/plain": [
       "        Age Occupation Annual_Income  Monthly_Inhand_Salary  \\\n",
       "0        23  Scientist      19114.12            1824.843333   \n",
       "1        23  Scientist      19114.12                    NaN   \n",
       "2      -500  Scientist      19114.12                    NaN   \n",
       "3        23  Scientist      19114.12                    NaN   \n",
       "4        23  Scientist      19114.12            1824.843333   \n",
       "...     ...        ...           ...                    ...   \n",
       "99995    25   Mechanic      39628.99            3359.415833   \n",
       "99996    25   Mechanic      39628.99            3359.415833   \n",
       "99997    25   Mechanic      39628.99            3359.415833   \n",
       "99998    25   Mechanic      39628.99            3359.415833   \n",
       "99999    25   Mechanic     39628.99_            3359.415833   \n",
       "\n",
       "       Delay_from_due_date Num_of_Delayed_Payment  Num_Credit_Inquiries  \\\n",
       "0                        3                      7                   4.0   \n",
       "1                       -1                    NaN                   4.0   \n",
       "2                        3                      7                   4.0   \n",
       "3                        5                      4                   4.0   \n",
       "4                        6                    NaN                   4.0   \n",
       "...                    ...                    ...                   ...   \n",
       "99995                   23                      7                   3.0   \n",
       "99996                   18                      7                   3.0   \n",
       "99997                   27                      6                   3.0   \n",
       "99998                   20                    NaN                   3.0   \n",
       "99999                   18                      6                   3.0   \n",
       "\n",
       "      Credit_Mix Outstanding_Debt  Credit_Utilization_Ratio  \\\n",
       "0              _           809.98                 26.822620   \n",
       "1           Good           809.98                 31.944960   \n",
       "2           Good           809.98                 28.609352   \n",
       "3           Good           809.98                 31.377862   \n",
       "4           Good           809.98                 24.797347   \n",
       "...          ...              ...                       ...   \n",
       "99995          _           502.38                 34.663572   \n",
       "99996          _           502.38                 40.565631   \n",
       "99997       Good           502.38                 41.255522   \n",
       "99998       Good           502.38                 33.638208   \n",
       "99999       Good           502.38                 34.192463   \n",
       "\n",
       "           Credit_History_Age Payment_of_Min_Amount  Total_EMI_per_month  \\\n",
       "0       22 Years and 1 Months                    No            49.574949   \n",
       "1                         NaN                    No            49.574949   \n",
       "2       22 Years and 3 Months                    No            49.574949   \n",
       "3       22 Years and 4 Months                    No            49.574949   \n",
       "4       22 Years and 5 Months                    No            49.574949   \n",
       "...                       ...                   ...                  ...   \n",
       "99995   31 Years and 6 Months                    No            35.104023   \n",
       "99996   31 Years and 7 Months                    No            35.104023   \n",
       "99997   31 Years and 8 Months                    No            35.104023   \n",
       "99998   31 Years and 9 Months                    No            35.104023   \n",
       "99999  31 Years and 10 Months                    No            35.104023   \n",
       "\n",
       "                      Payment_Behaviour     Monthly_Balance  \\\n",
       "0       High_spent_Small_value_payments  312.49408867943663   \n",
       "1        Low_spent_Large_value_payments  284.62916249607184   \n",
       "2       Low_spent_Medium_value_payments   331.2098628537912   \n",
       "3        Low_spent_Small_value_payments  223.45130972736786   \n",
       "4      High_spent_Medium_value_payments  341.48923103222177   \n",
       "...                                 ...                 ...   \n",
       "99995   High_spent_Large_value_payments          479.866228   \n",
       "99996  High_spent_Medium_value_payments           496.65161   \n",
       "99997   High_spent_Large_value_payments          516.809083   \n",
       "99998    Low_spent_Large_value_payments          319.164979   \n",
       "99999                            !@9#%8          393.673696   \n",
       "\n",
       "       credit__score_label  \n",
       "0                        0  \n",
       "1                        0  \n",
       "2                        0  \n",
       "3                        0  \n",
       "4                        0  \n",
       "...                    ...  \n",
       "99995                    1  \n",
       "99996                    1  \n",
       "99997                    1  \n",
       "99998                    2  \n",
       "99999                    1  \n",
       "\n",
       "[100000 rows x 16 columns]"
      ]
     },
     "execution_count": 136,
     "metadata": {},
     "output_type": "execute_result"
    }
   ],
   "source": [
    "#Drop the column \n",
    "\n",
    "drop_df = df.drop(['ID','Customer_ID','Month','SSN','Num_Bank_Accounts','Num_Credit_Card',\n",
    "         'Interest_Rate','Num_of_Loan','Type_of_Loan','Changed_Credit_Limit','Amount_invested_monthly'], axis=1).copy()\n",
    "drop_df"
   ]
  },
  {
   "cell_type": "markdown",
   "metadata": {},
   "source": [
    "# ----------AGE----------------"
   ]
  },
  {
   "cell_type": "code",
   "execution_count": 137,
   "metadata": {},
   "outputs": [
    {
     "data": {
      "text/plain": [
       "0          23\n",
       "1          23\n",
       "2        -500\n",
       "3          23\n",
       "4          23\n",
       "         ... \n",
       "99995      25\n",
       "99996      25\n",
       "99997      25\n",
       "99998      25\n",
       "99999      25\n",
       "Name: Age, Length: 100000, dtype: object"
      ]
     },
     "execution_count": 137,
     "metadata": {},
     "output_type": "execute_result"
    }
   ],
   "source": [
    "drop_df[\"Age\"]"
   ]
  },
  {
   "cell_type": "code",
   "execution_count": 138,
   "metadata": {},
   "outputs": [],
   "source": [
    "# non_numeric_age = drop_df[~drop_df[\"Age\"].str.isnumeric()]"
   ]
  },
  {
   "cell_type": "code",
   "execution_count": 139,
   "metadata": {},
   "outputs": [],
   "source": [
    "def filter_col(value):\n",
    "    if '-' in value:\n",
    "        return value.split('-')[1]\n",
    "    elif '_' in value:\n",
    "        return value.split('_')[0]\n",
    "    else:\n",
    "        return value"
   ]
  },
  {
   "cell_type": "code",
   "execution_count": 140,
   "metadata": {},
   "outputs": [
    {
     "data": {
      "text/plain": [
       "pandas.core.series.Series"
      ]
     },
     "execution_count": 140,
     "metadata": {},
     "output_type": "execute_result"
    }
   ],
   "source": [
    "type(df[\"Age\"])"
   ]
  },
  {
   "cell_type": "code",
   "execution_count": 141,
   "metadata": {},
   "outputs": [],
   "source": [
    "drop_df[\"Age\"] = drop_df[\"Age\"].apply(filter_col)\n",
    "drop_df[\"Age\"] = drop_df[\"Age\"].astype(int)\n"
   ]
  },
  {
   "cell_type": "code",
   "execution_count": 142,
   "metadata": {},
   "outputs": [
    {
     "name": "stderr",
     "output_type": "stream",
     "text": [
      "/tmp/ipykernel_22077/2827531744.py:5: SettingWithCopyWarning: \n",
      "A value is trying to be set on a copy of a slice from a DataFrame\n",
      "\n",
      "See the caveats in the documentation: https://pandas.pydata.org/pandas-docs/stable/user_guide/indexing.html#returning-a-view-versus-a-copy\n",
      "  drop_df[\"Age\"][i] = drop_df[\"Age\"][i]\n",
      "/tmp/ipykernel_22077/2827531744.py:3: SettingWithCopyWarning: \n",
      "A value is trying to be set on a copy of a slice from a DataFrame\n",
      "\n",
      "See the caveats in the documentation: https://pandas.pydata.org/pandas-docs/stable/user_guide/indexing.html#returning-a-view-versus-a-copy\n",
      "  drop_df[\"Age\"][i] = np.nan\n",
      "/usr/lib/python3/dist-packages/pandas/core/indexing.py:1732: SettingWithCopyWarning: \n",
      "A value is trying to be set on a copy of a slice from a DataFrame\n",
      "\n",
      "See the caveats in the documentation: https://pandas.pydata.org/pandas-docs/stable/user_guide/indexing.html#returning-a-view-versus-a-copy\n",
      "  self._setitem_single_block(indexer, value, name)\n"
     ]
    }
   ],
   "source": [
    "for i in range(len(drop_df[\"Age\"])):\n",
    "    if drop_df[\"Age\"][i] > 90 or drop_df[\"Age\"][i] < 10:\n",
    "        drop_df[\"Age\"][i] = np.nan\n",
    "    else:\n",
    "        drop_df[\"Age\"][i] = drop_df[\"Age\"][i]"
   ]
  },
  {
   "cell_type": "code",
   "execution_count": 143,
   "metadata": {},
   "outputs": [
    {
     "data": {
      "text/plain": [
       "0        23.0\n",
       "1        23.0\n",
       "2         NaN\n",
       "3        23.0\n",
       "4        23.0\n",
       "         ... \n",
       "99995    25.0\n",
       "99996    25.0\n",
       "99997    25.0\n",
       "99998    25.0\n",
       "99999    25.0\n",
       "Name: Age, Length: 100000, dtype: float64"
      ]
     },
     "execution_count": 143,
     "metadata": {},
     "output_type": "execute_result"
    }
   ],
   "source": [
    "drop_df[\"Age\"]"
   ]
  },
  {
   "cell_type": "code",
   "execution_count": 144,
   "metadata": {},
   "outputs": [],
   "source": [
    "# non_numeric_age = drop_df[~drop_df[\"Age\"].str.isnumeric()]"
   ]
  },
  {
   "cell_type": "code",
   "execution_count": 145,
   "metadata": {},
   "outputs": [],
   "source": [
    "# drop_df[\"Age\"] = pd.to_numeric(drop_df[\"Age\"], errors=\"coerce\")"
   ]
  },
  {
   "cell_type": "code",
   "execution_count": 146,
   "metadata": {},
   "outputs": [
    {
     "name": "stdout",
     "output_type": "stream",
     "text": [
      "<class 'pandas.core.frame.DataFrame'>\n",
      "RangeIndex: 100000 entries, 0 to 99999\n",
      "Data columns (total 16 columns):\n",
      " #   Column                    Non-Null Count   Dtype  \n",
      "---  ------                    --------------   -----  \n",
      " 0   Age                       97219 non-null   float64\n",
      " 1   Occupation                100000 non-null  object \n",
      " 2   Annual_Income             100000 non-null  object \n",
      " 3   Monthly_Inhand_Salary     84998 non-null   float64\n",
      " 4   Delay_from_due_date       100000 non-null  int64  \n",
      " 5   Num_of_Delayed_Payment    92998 non-null   object \n",
      " 6   Num_Credit_Inquiries      98035 non-null   float64\n",
      " 7   Credit_Mix                100000 non-null  object \n",
      " 8   Outstanding_Debt          100000 non-null  object \n",
      " 9   Credit_Utilization_Ratio  100000 non-null  float64\n",
      " 10  Credit_History_Age        90970 non-null   object \n",
      " 11  Payment_of_Min_Amount     100000 non-null  object \n",
      " 12  Total_EMI_per_month       100000 non-null  float64\n",
      " 13  Payment_Behaviour         100000 non-null  object \n",
      " 14  Monthly_Balance           98800 non-null   object \n",
      " 15  credit__score_label       100000 non-null  int64  \n",
      "dtypes: float64(5), int64(2), object(9)\n",
      "memory usage: 12.2+ MB\n"
     ]
    }
   ],
   "source": [
    "drop_df.info()"
   ]
  },
  {
   "cell_type": "code",
   "execution_count": 147,
   "metadata": {},
   "outputs": [],
   "source": [
    "# drop_df.dropna(subset=[\"Age\"],inplace=True)\n",
    "# drop_df.reset_index(drop=True, inplace=True)"
   ]
  },
  {
   "cell_type": "code",
   "execution_count": 148,
   "metadata": {},
   "outputs": [],
   "source": [
    "# age_bins = range(10,65,5)  # Define your age ranges\n",
    "# plt.figure(figsize=(15,10),dpi=500)\n",
    "\n",
    "# # Use pd.cut to categorize ages into bins and get the frequency count\n",
    "# delay_ranges = pd.cut(drop_df[\"Age\"], bins=age_bins)\n",
    "# delay_counts = delay_ranges.value_counts().sort_index()\n",
    "\n",
    "# # Create a bar plot\n",
    "# delay_counts.plot(kind='bar', color='green', edgecolor='black')\n",
    "\n",
    "# # Customize the plot\n",
    "# plt.xlabel('Age Range')\n",
    "# plt.ylabel('Frequency')\n",
    "# plt.title('Age Distribution Bar Plot')\n",
    "\n",
    "# # Show the plot\n",
    "# plt.xticks(rotation=45)  # Rotate x-axis labels for better readability\n",
    "# plt.show()"
   ]
  },
  {
   "cell_type": "markdown",
   "metadata": {},
   "source": [
    "# ------------------OCCUPATION-------------------------\n"
   ]
  },
  {
   "cell_type": "code",
   "execution_count": 149,
   "metadata": {},
   "outputs": [
    {
     "data": {
      "text/plain": [
       "_______          7062\n",
       "Lawyer           6575\n",
       "Architect        6355\n",
       "Engineer         6350\n",
       "Scientist        6299\n",
       "Mechanic         6291\n",
       "Accountant       6271\n",
       "Developer        6235\n",
       "Media_Manager    6232\n",
       "Teacher          6215\n",
       "Entrepreneur     6174\n",
       "Doctor           6087\n",
       "Journalist       6085\n",
       "Manager          5973\n",
       "Musician         5911\n",
       "Writer           5885\n",
       "Name: Occupation, dtype: int64"
      ]
     },
     "execution_count": 149,
     "metadata": {},
     "output_type": "execute_result"
    }
   ],
   "source": [
    "drop_df[\"Occupation\"].value_counts()"
   ]
  },
  {
   "cell_type": "code",
   "execution_count": 150,
   "metadata": {},
   "outputs": [],
   "source": [
    "drop_df[\"Occupation\"].replace(\"_______\",np.nan,inplace=True)"
   ]
  },
  {
   "cell_type": "code",
   "execution_count": 151,
   "metadata": {},
   "outputs": [],
   "source": [
    "drop_df[\"Occupation\"]=drop_df[\"Occupation\"].astype(\"object\")"
   ]
  },
  {
   "cell_type": "code",
   "execution_count": 152,
   "metadata": {},
   "outputs": [
    {
     "data": {
      "text/plain": [
       "Lawyer           6575\n",
       "Architect        6355\n",
       "Engineer         6350\n",
       "Scientist        6299\n",
       "Mechanic         6291\n",
       "Accountant       6271\n",
       "Developer        6235\n",
       "Media_Manager    6232\n",
       "Teacher          6215\n",
       "Entrepreneur     6174\n",
       "Doctor           6087\n",
       "Journalist       6085\n",
       "Manager          5973\n",
       "Musician         5911\n",
       "Writer           5885\n",
       "Name: Occupation, dtype: int64"
      ]
     },
     "execution_count": 152,
     "metadata": {},
     "output_type": "execute_result"
    }
   ],
   "source": [
    "drop_df[\"Occupation\"].value_counts()"
   ]
  },
  {
   "cell_type": "code",
   "execution_count": 153,
   "metadata": {},
   "outputs": [],
   "source": [
    "# from sklearn."
   ]
  },
  {
   "cell_type": "code",
   "execution_count": 154,
   "metadata": {},
   "outputs": [
    {
     "data": {
      "text/html": [
       "<div>\n",
       "<style scoped>\n",
       "    .dataframe tbody tr th:only-of-type {\n",
       "        vertical-align: middle;\n",
       "    }\n",
       "\n",
       "    .dataframe tbody tr th {\n",
       "        vertical-align: top;\n",
       "    }\n",
       "\n",
       "    .dataframe thead th {\n",
       "        text-align: right;\n",
       "    }\n",
       "</style>\n",
       "<table border=\"1\" class=\"dataframe\">\n",
       "  <thead>\n",
       "    <tr style=\"text-align: right;\">\n",
       "      <th></th>\n",
       "      <th>Age</th>\n",
       "      <th>Occupation</th>\n",
       "      <th>Annual_Income</th>\n",
       "      <th>Monthly_Inhand_Salary</th>\n",
       "      <th>Delay_from_due_date</th>\n",
       "      <th>Num_of_Delayed_Payment</th>\n",
       "      <th>Num_Credit_Inquiries</th>\n",
       "      <th>Credit_Mix</th>\n",
       "      <th>Outstanding_Debt</th>\n",
       "      <th>Credit_Utilization_Ratio</th>\n",
       "      <th>Credit_History_Age</th>\n",
       "      <th>Payment_of_Min_Amount</th>\n",
       "      <th>Total_EMI_per_month</th>\n",
       "      <th>Payment_Behaviour</th>\n",
       "      <th>Monthly_Balance</th>\n",
       "      <th>credit__score_label</th>\n",
       "    </tr>\n",
       "  </thead>\n",
       "  <tbody>\n",
       "    <tr>\n",
       "      <th>0</th>\n",
       "      <td>23.0</td>\n",
       "      <td>Scientist</td>\n",
       "      <td>19114.12</td>\n",
       "      <td>1824.843333</td>\n",
       "      <td>3</td>\n",
       "      <td>7</td>\n",
       "      <td>4.0</td>\n",
       "      <td>_</td>\n",
       "      <td>809.98</td>\n",
       "      <td>26.822620</td>\n",
       "      <td>22 Years and 1 Months</td>\n",
       "      <td>No</td>\n",
       "      <td>49.574949</td>\n",
       "      <td>High_spent_Small_value_payments</td>\n",
       "      <td>312.49408867943663</td>\n",
       "      <td>0</td>\n",
       "    </tr>\n",
       "    <tr>\n",
       "      <th>1</th>\n",
       "      <td>23.0</td>\n",
       "      <td>Scientist</td>\n",
       "      <td>19114.12</td>\n",
       "      <td>NaN</td>\n",
       "      <td>-1</td>\n",
       "      <td>NaN</td>\n",
       "      <td>4.0</td>\n",
       "      <td>Good</td>\n",
       "      <td>809.98</td>\n",
       "      <td>31.944960</td>\n",
       "      <td>NaN</td>\n",
       "      <td>No</td>\n",
       "      <td>49.574949</td>\n",
       "      <td>Low_spent_Large_value_payments</td>\n",
       "      <td>284.62916249607184</td>\n",
       "      <td>0</td>\n",
       "    </tr>\n",
       "    <tr>\n",
       "      <th>2</th>\n",
       "      <td>NaN</td>\n",
       "      <td>Scientist</td>\n",
       "      <td>19114.12</td>\n",
       "      <td>NaN</td>\n",
       "      <td>3</td>\n",
       "      <td>7</td>\n",
       "      <td>4.0</td>\n",
       "      <td>Good</td>\n",
       "      <td>809.98</td>\n",
       "      <td>28.609352</td>\n",
       "      <td>22 Years and 3 Months</td>\n",
       "      <td>No</td>\n",
       "      <td>49.574949</td>\n",
       "      <td>Low_spent_Medium_value_payments</td>\n",
       "      <td>331.2098628537912</td>\n",
       "      <td>0</td>\n",
       "    </tr>\n",
       "    <tr>\n",
       "      <th>3</th>\n",
       "      <td>23.0</td>\n",
       "      <td>Scientist</td>\n",
       "      <td>19114.12</td>\n",
       "      <td>NaN</td>\n",
       "      <td>5</td>\n",
       "      <td>4</td>\n",
       "      <td>4.0</td>\n",
       "      <td>Good</td>\n",
       "      <td>809.98</td>\n",
       "      <td>31.377862</td>\n",
       "      <td>22 Years and 4 Months</td>\n",
       "      <td>No</td>\n",
       "      <td>49.574949</td>\n",
       "      <td>Low_spent_Small_value_payments</td>\n",
       "      <td>223.45130972736786</td>\n",
       "      <td>0</td>\n",
       "    </tr>\n",
       "    <tr>\n",
       "      <th>4</th>\n",
       "      <td>23.0</td>\n",
       "      <td>Scientist</td>\n",
       "      <td>19114.12</td>\n",
       "      <td>1824.843333</td>\n",
       "      <td>6</td>\n",
       "      <td>NaN</td>\n",
       "      <td>4.0</td>\n",
       "      <td>Good</td>\n",
       "      <td>809.98</td>\n",
       "      <td>24.797347</td>\n",
       "      <td>22 Years and 5 Months</td>\n",
       "      <td>No</td>\n",
       "      <td>49.574949</td>\n",
       "      <td>High_spent_Medium_value_payments</td>\n",
       "      <td>341.48923103222177</td>\n",
       "      <td>0</td>\n",
       "    </tr>\n",
       "    <tr>\n",
       "      <th>...</th>\n",
       "      <td>...</td>\n",
       "      <td>...</td>\n",
       "      <td>...</td>\n",
       "      <td>...</td>\n",
       "      <td>...</td>\n",
       "      <td>...</td>\n",
       "      <td>...</td>\n",
       "      <td>...</td>\n",
       "      <td>...</td>\n",
       "      <td>...</td>\n",
       "      <td>...</td>\n",
       "      <td>...</td>\n",
       "      <td>...</td>\n",
       "      <td>...</td>\n",
       "      <td>...</td>\n",
       "      <td>...</td>\n",
       "    </tr>\n",
       "    <tr>\n",
       "      <th>99995</th>\n",
       "      <td>25.0</td>\n",
       "      <td>Mechanic</td>\n",
       "      <td>39628.99</td>\n",
       "      <td>3359.415833</td>\n",
       "      <td>23</td>\n",
       "      <td>7</td>\n",
       "      <td>3.0</td>\n",
       "      <td>_</td>\n",
       "      <td>502.38</td>\n",
       "      <td>34.663572</td>\n",
       "      <td>31 Years and 6 Months</td>\n",
       "      <td>No</td>\n",
       "      <td>35.104023</td>\n",
       "      <td>High_spent_Large_value_payments</td>\n",
       "      <td>479.866228</td>\n",
       "      <td>1</td>\n",
       "    </tr>\n",
       "    <tr>\n",
       "      <th>99996</th>\n",
       "      <td>25.0</td>\n",
       "      <td>Mechanic</td>\n",
       "      <td>39628.99</td>\n",
       "      <td>3359.415833</td>\n",
       "      <td>18</td>\n",
       "      <td>7</td>\n",
       "      <td>3.0</td>\n",
       "      <td>_</td>\n",
       "      <td>502.38</td>\n",
       "      <td>40.565631</td>\n",
       "      <td>31 Years and 7 Months</td>\n",
       "      <td>No</td>\n",
       "      <td>35.104023</td>\n",
       "      <td>High_spent_Medium_value_payments</td>\n",
       "      <td>496.65161</td>\n",
       "      <td>1</td>\n",
       "    </tr>\n",
       "    <tr>\n",
       "      <th>99997</th>\n",
       "      <td>25.0</td>\n",
       "      <td>Mechanic</td>\n",
       "      <td>39628.99</td>\n",
       "      <td>3359.415833</td>\n",
       "      <td>27</td>\n",
       "      <td>6</td>\n",
       "      <td>3.0</td>\n",
       "      <td>Good</td>\n",
       "      <td>502.38</td>\n",
       "      <td>41.255522</td>\n",
       "      <td>31 Years and 8 Months</td>\n",
       "      <td>No</td>\n",
       "      <td>35.104023</td>\n",
       "      <td>High_spent_Large_value_payments</td>\n",
       "      <td>516.809083</td>\n",
       "      <td>1</td>\n",
       "    </tr>\n",
       "    <tr>\n",
       "      <th>99998</th>\n",
       "      <td>25.0</td>\n",
       "      <td>Mechanic</td>\n",
       "      <td>39628.99</td>\n",
       "      <td>3359.415833</td>\n",
       "      <td>20</td>\n",
       "      <td>NaN</td>\n",
       "      <td>3.0</td>\n",
       "      <td>Good</td>\n",
       "      <td>502.38</td>\n",
       "      <td>33.638208</td>\n",
       "      <td>31 Years and 9 Months</td>\n",
       "      <td>No</td>\n",
       "      <td>35.104023</td>\n",
       "      <td>Low_spent_Large_value_payments</td>\n",
       "      <td>319.164979</td>\n",
       "      <td>2</td>\n",
       "    </tr>\n",
       "    <tr>\n",
       "      <th>99999</th>\n",
       "      <td>25.0</td>\n",
       "      <td>Mechanic</td>\n",
       "      <td>39628.99_</td>\n",
       "      <td>3359.415833</td>\n",
       "      <td>18</td>\n",
       "      <td>6</td>\n",
       "      <td>3.0</td>\n",
       "      <td>Good</td>\n",
       "      <td>502.38</td>\n",
       "      <td>34.192463</td>\n",
       "      <td>31 Years and 10 Months</td>\n",
       "      <td>No</td>\n",
       "      <td>35.104023</td>\n",
       "      <td>!@9#%8</td>\n",
       "      <td>393.673696</td>\n",
       "      <td>1</td>\n",
       "    </tr>\n",
       "  </tbody>\n",
       "</table>\n",
       "<p>100000 rows × 16 columns</p>\n",
       "</div>"
      ],
      "text/plain": [
       "        Age Occupation Annual_Income  Monthly_Inhand_Salary  \\\n",
       "0      23.0  Scientist      19114.12            1824.843333   \n",
       "1      23.0  Scientist      19114.12                    NaN   \n",
       "2       NaN  Scientist      19114.12                    NaN   \n",
       "3      23.0  Scientist      19114.12                    NaN   \n",
       "4      23.0  Scientist      19114.12            1824.843333   \n",
       "...     ...        ...           ...                    ...   \n",
       "99995  25.0   Mechanic      39628.99            3359.415833   \n",
       "99996  25.0   Mechanic      39628.99            3359.415833   \n",
       "99997  25.0   Mechanic      39628.99            3359.415833   \n",
       "99998  25.0   Mechanic      39628.99            3359.415833   \n",
       "99999  25.0   Mechanic     39628.99_            3359.415833   \n",
       "\n",
       "       Delay_from_due_date Num_of_Delayed_Payment  Num_Credit_Inquiries  \\\n",
       "0                        3                      7                   4.0   \n",
       "1                       -1                    NaN                   4.0   \n",
       "2                        3                      7                   4.0   \n",
       "3                        5                      4                   4.0   \n",
       "4                        6                    NaN                   4.0   \n",
       "...                    ...                    ...                   ...   \n",
       "99995                   23                      7                   3.0   \n",
       "99996                   18                      7                   3.0   \n",
       "99997                   27                      6                   3.0   \n",
       "99998                   20                    NaN                   3.0   \n",
       "99999                   18                      6                   3.0   \n",
       "\n",
       "      Credit_Mix Outstanding_Debt  Credit_Utilization_Ratio  \\\n",
       "0              _           809.98                 26.822620   \n",
       "1           Good           809.98                 31.944960   \n",
       "2           Good           809.98                 28.609352   \n",
       "3           Good           809.98                 31.377862   \n",
       "4           Good           809.98                 24.797347   \n",
       "...          ...              ...                       ...   \n",
       "99995          _           502.38                 34.663572   \n",
       "99996          _           502.38                 40.565631   \n",
       "99997       Good           502.38                 41.255522   \n",
       "99998       Good           502.38                 33.638208   \n",
       "99999       Good           502.38                 34.192463   \n",
       "\n",
       "           Credit_History_Age Payment_of_Min_Amount  Total_EMI_per_month  \\\n",
       "0       22 Years and 1 Months                    No            49.574949   \n",
       "1                         NaN                    No            49.574949   \n",
       "2       22 Years and 3 Months                    No            49.574949   \n",
       "3       22 Years and 4 Months                    No            49.574949   \n",
       "4       22 Years and 5 Months                    No            49.574949   \n",
       "...                       ...                   ...                  ...   \n",
       "99995   31 Years and 6 Months                    No            35.104023   \n",
       "99996   31 Years and 7 Months                    No            35.104023   \n",
       "99997   31 Years and 8 Months                    No            35.104023   \n",
       "99998   31 Years and 9 Months                    No            35.104023   \n",
       "99999  31 Years and 10 Months                    No            35.104023   \n",
       "\n",
       "                      Payment_Behaviour     Monthly_Balance  \\\n",
       "0       High_spent_Small_value_payments  312.49408867943663   \n",
       "1        Low_spent_Large_value_payments  284.62916249607184   \n",
       "2       Low_spent_Medium_value_payments   331.2098628537912   \n",
       "3        Low_spent_Small_value_payments  223.45130972736786   \n",
       "4      High_spent_Medium_value_payments  341.48923103222177   \n",
       "...                                 ...                 ...   \n",
       "99995   High_spent_Large_value_payments          479.866228   \n",
       "99996  High_spent_Medium_value_payments           496.65161   \n",
       "99997   High_spent_Large_value_payments          516.809083   \n",
       "99998    Low_spent_Large_value_payments          319.164979   \n",
       "99999                            !@9#%8          393.673696   \n",
       "\n",
       "       credit__score_label  \n",
       "0                        0  \n",
       "1                        0  \n",
       "2                        0  \n",
       "3                        0  \n",
       "4                        0  \n",
       "...                    ...  \n",
       "99995                    1  \n",
       "99996                    1  \n",
       "99997                    1  \n",
       "99998                    2  \n",
       "99999                    1  \n",
       "\n",
       "[100000 rows x 16 columns]"
      ]
     },
     "execution_count": 154,
     "metadata": {},
     "output_type": "execute_result"
    }
   ],
   "source": [
    "drop_df"
   ]
  },
  {
   "cell_type": "code",
   "execution_count": 155,
   "metadata": {},
   "outputs": [],
   "source": [
    "krna=['Age', 'Occupation', 'Delay_from_due_date',\n",
    "       'Num_of_Delayed_Payment', 'Num_Credit_Inquiries']"
   ]
  },
  {
   "cell_type": "markdown",
   "metadata": {},
   "source": [
    "# -------------------------Delay_from_due_date--------------------------"
   ]
  },
  {
   "cell_type": "code",
   "execution_count": 156,
   "metadata": {},
   "outputs": [
    {
     "data": {
      "text/plain": [
       "-5      33\n",
       "-4      62\n",
       "-3     118\n",
       "-2     168\n",
       "-1     210\n",
       "      ... \n",
       " 63     69\n",
       " 64     64\n",
       " 65     56\n",
       " 66     32\n",
       " 67     22\n",
       "Name: Delay_from_due_date, Length: 73, dtype: int64"
      ]
     },
     "execution_count": 156,
     "metadata": {},
     "output_type": "execute_result"
    }
   ],
   "source": [
    "drop_df[\"Delay_from_due_date\"].value_counts().sort_index()"
   ]
  },
  {
   "cell_type": "code",
   "execution_count": 157,
   "metadata": {},
   "outputs": [
    {
     "data": {
      "text/plain": [
       "0"
      ]
     },
     "execution_count": 157,
     "metadata": {},
     "output_type": "execute_result"
    }
   ],
   "source": [
    "drop_df[\"Delay_from_due_date\"].isnull().sum()"
   ]
  },
  {
   "cell_type": "code",
   "execution_count": 158,
   "metadata": {},
   "outputs": [],
   "source": [
    "drop_df[\"Delay_from_due_date\"] = drop_df[\"Delay_from_due_date\"].apply(lambda x: max(x, 0))\n"
   ]
  },
  {
   "cell_type": "markdown",
   "metadata": {},
   "source": [
    "# ------------------Num_of_Delayed_Payment-----------------------\n"
   ]
  },
  {
   "cell_type": "code",
   "execution_count": 159,
   "metadata": {},
   "outputs": [
    {
     "data": {
      "text/plain": [
       "7002"
      ]
     },
     "execution_count": 159,
     "metadata": {},
     "output_type": "execute_result"
    }
   ],
   "source": [
    "drop_df[\"Num_of_Delayed_Payment\"].isnull().sum()"
   ]
  },
  {
   "cell_type": "markdown",
   "metadata": {},
   "source": [
    "Here the Num_of_Delayed_Payment columns has around 7k null values dropping them dirctly could mean a significant data loss.\n",
    "Also directly imputating it with mean is also a bad idea consdering the fact that it could be depended on some other factor.\n",
    "So insted we will see the correleation of this column with other variables and then decide which column should be used to take out some metric."
   ]
  },
  {
   "cell_type": "code",
   "execution_count": 160,
   "metadata": {},
   "outputs": [],
   "source": [
    "def filter_(value:str):\n",
    "    if '_' in str(value):\n",
    "        return value.split('_')[0]\n",
    "    else:\n",
    "        return value\n",
    "drop_df[\"Num_of_Delayed_Payment\"]= drop_df[\"Num_of_Delayed_Payment\"].apply(filter_)"
   ]
  },
  {
   "cell_type": "code",
   "execution_count": 161,
   "metadata": {},
   "outputs": [],
   "source": [
    "drop_df[\"Num_of_Delayed_Payment\"]= drop_df[\"Num_of_Delayed_Payment\"].astype(\"float64\")"
   ]
  },
  {
   "cell_type": "code",
   "execution_count": 162,
   "metadata": {},
   "outputs": [
    {
     "name": "stdout",
     "output_type": "stream",
     "text": [
      "<class 'pandas.core.frame.DataFrame'>\n",
      "RangeIndex: 100000 entries, 0 to 99999\n",
      "Data columns (total 16 columns):\n",
      " #   Column                    Non-Null Count   Dtype  \n",
      "---  ------                    --------------   -----  \n",
      " 0   Age                       97219 non-null   float64\n",
      " 1   Occupation                92938 non-null   object \n",
      " 2   Annual_Income             100000 non-null  object \n",
      " 3   Monthly_Inhand_Salary     84998 non-null   float64\n",
      " 4   Delay_from_due_date       100000 non-null  int64  \n",
      " 5   Num_of_Delayed_Payment    92998 non-null   float64\n",
      " 6   Num_Credit_Inquiries      98035 non-null   float64\n",
      " 7   Credit_Mix                100000 non-null  object \n",
      " 8   Outstanding_Debt          100000 non-null  object \n",
      " 9   Credit_Utilization_Ratio  100000 non-null  float64\n",
      " 10  Credit_History_Age        90970 non-null   object \n",
      " 11  Payment_of_Min_Amount     100000 non-null  object \n",
      " 12  Total_EMI_per_month       100000 non-null  float64\n",
      " 13  Payment_Behaviour         100000 non-null  object \n",
      " 14  Monthly_Balance           98800 non-null   object \n",
      " 15  credit__score_label       100000 non-null  int64  \n",
      "dtypes: float64(6), int64(2), object(8)\n",
      "memory usage: 12.2+ MB\n"
     ]
    }
   ],
   "source": [
    "drop_df.info()"
   ]
  },
  {
   "cell_type": "markdown",
   "metadata": {},
   "source": [
    "# ------------Num_Credit_Inquiries-----------------"
   ]
  },
  {
   "cell_type": "code",
   "execution_count": 163,
   "metadata": {},
   "outputs": [
    {
     "data": {
      "text/plain": [
       "1965"
      ]
     },
     "execution_count": 163,
     "metadata": {},
     "output_type": "execute_result"
    }
   ],
   "source": [
    "drop_df[\"Num_Credit_Inquiries\"].isnull().sum()"
   ]
  },
  {
   "cell_type": "code",
   "execution_count": 164,
   "metadata": {},
   "outputs": [],
   "source": [
    "# plt.figure(figsize=(18,13))\n",
    "# sns.heatmap(drop_df.corr(),annot=True,cmap=\"plasma\")"
   ]
  },
  {
   "cell_type": "markdown",
   "metadata": {},
   "source": [
    "# -------------------Annual_Income------------------"
   ]
  },
  {
   "cell_type": "code",
   "execution_count": 165,
   "metadata": {},
   "outputs": [
    {
     "data": {
      "text/plain": [
       "36585.12     16\n",
       "20867.67     16\n",
       "17273.83     16\n",
       "9141.63      15\n",
       "33029.66     15\n",
       "             ..\n",
       "20269.93_     1\n",
       "15157.25_     1\n",
       "44955.64_     1\n",
       "76650.12_     1\n",
       "4262933.0     1\n",
       "Name: Annual_Income, Length: 18940, dtype: int64"
      ]
     },
     "execution_count": 165,
     "metadata": {},
     "output_type": "execute_result"
    }
   ],
   "source": [
    "drop_df[\"Annual_Income\"].value_counts()"
   ]
  },
  {
   "cell_type": "code",
   "execution_count": 166,
   "metadata": {},
   "outputs": [],
   "source": [
    "drop_df[\"Annual_Income\"] = drop_df[\"Annual_Income\"].apply(filter_col)\n",
    "drop_df[\"Annual_Income\"] = drop_df[\"Annual_Income\"].astype(float)"
   ]
  },
  {
   "cell_type": "code",
   "execution_count": 167,
   "metadata": {},
   "outputs": [
    {
     "name": "stdout",
     "output_type": "stream",
     "text": [
      "<class 'pandas.core.frame.DataFrame'>\n",
      "RangeIndex: 100000 entries, 0 to 99999\n",
      "Data columns (total 16 columns):\n",
      " #   Column                    Non-Null Count   Dtype  \n",
      "---  ------                    --------------   -----  \n",
      " 0   Age                       97219 non-null   float64\n",
      " 1   Occupation                92938 non-null   object \n",
      " 2   Annual_Income             100000 non-null  float64\n",
      " 3   Monthly_Inhand_Salary     84998 non-null   float64\n",
      " 4   Delay_from_due_date       100000 non-null  int64  \n",
      " 5   Num_of_Delayed_Payment    92998 non-null   float64\n",
      " 6   Num_Credit_Inquiries      98035 non-null   float64\n",
      " 7   Credit_Mix                100000 non-null  object \n",
      " 8   Outstanding_Debt          100000 non-null  object \n",
      " 9   Credit_Utilization_Ratio  100000 non-null  float64\n",
      " 10  Credit_History_Age        90970 non-null   object \n",
      " 11  Payment_of_Min_Amount     100000 non-null  object \n",
      " 12  Total_EMI_per_month       100000 non-null  float64\n",
      " 13  Payment_Behaviour         100000 non-null  object \n",
      " 14  Monthly_Balance           98800 non-null   object \n",
      " 15  credit__score_label       100000 non-null  int64  \n",
      "dtypes: float64(7), int64(2), object(7)\n",
      "memory usage: 12.2+ MB\n"
     ]
    }
   ],
   "source": [
    "drop_df.info()"
   ]
  },
  {
   "cell_type": "code",
   "execution_count": 168,
   "metadata": {},
   "outputs": [],
   "source": [
    "krna=[ 'Occupation', \n",
    "       'Num_of_Delayed_Payment', 'Num_Credit_Inquiries',\n",
    "        \n",
    "        \n",
    "       'Outstanding_Debt', 'Credit_Utilization_Ratio', 'Credit_History_Age',\n",
    "      'Total_EMI_per_month', \n",
    "\n",
    "      \n",
    "      'Payment_Behaviour', 'Monthly_Balance']"
   ]
  },
  {
   "cell_type": "markdown",
   "metadata": {},
   "source": [
    "# -----------------Monthly_Balance-----------------"
   ]
  },
  {
   "cell_type": "code",
   "execution_count": 169,
   "metadata": {},
   "outputs": [
    {
     "data": {
      "text/plain": [
       "1200"
      ]
     },
     "execution_count": 169,
     "metadata": {},
     "output_type": "execute_result"
    }
   ],
   "source": [
    "drop_df[\"Monthly_Balance\"].isnull().sum()"
   ]
  },
  {
   "cell_type": "code",
   "execution_count": 170,
   "metadata": {},
   "outputs": [
    {
     "data": {
      "text/plain": [
       "__-333333333333333333333333333__    9\n",
       "312.49408867943663                  1\n",
       "415.32532309844316                  1\n",
       "252.08489793906085                  1\n",
       "254.9709216273975                   1\n",
       "                                   ..\n",
       "366.2890379762706                   1\n",
       "151.1882696261166                   1\n",
       "306.75027851710234                  1\n",
       "278.8720257394474                   1\n",
       "393.6736955618808                   1\n",
       "Name: Monthly_Balance, Length: 98792, dtype: int64"
      ]
     },
     "execution_count": 170,
     "metadata": {},
     "output_type": "execute_result"
    }
   ],
   "source": [
    "drop_df[\"Monthly_Balance\"].value_counts()"
   ]
  },
  {
   "cell_type": "code",
   "execution_count": 171,
   "metadata": {},
   "outputs": [],
   "source": [
    "drop_df['Monthly_Balance']=drop_df['Monthly_Balance'].replace('__-333333333333333333333333333__',np.nan)\n",
    "drop_df['Monthly_Balance']=drop_df['Monthly_Balance'].astype(\"float\")"
   ]
  },
  {
   "cell_type": "code",
   "execution_count": 172,
   "metadata": {},
   "outputs": [],
   "source": [
    "drop_df['Monthly_Balance']=drop_df['Monthly_Balance'].fillna(drop_df[\"Monthly_Balance\"].mean())\n",
    "drop_df['Monthly_Balance']=drop_df['Monthly_Balance'].round(3)"
   ]
  },
  {
   "cell_type": "code",
   "execution_count": 173,
   "metadata": {},
   "outputs": [
    {
     "data": {
      "text/plain": [
       "0"
      ]
     },
     "execution_count": 173,
     "metadata": {},
     "output_type": "execute_result"
    }
   ],
   "source": [
    "drop_df[\"Monthly_Balance\"].isnull().sum()"
   ]
  },
  {
   "cell_type": "markdown",
   "metadata": {},
   "source": [
    "# ---------------Credit_History_Age------------------\n"
   ]
  },
  {
   "cell_type": "code",
   "execution_count": 174,
   "metadata": {},
   "outputs": [],
   "source": [
    "years  = []\n",
    "months = []\n",
    "for value in drop_df[\"Credit_History_Age\"]:\n",
    "    if value is np.nan:\n",
    "        years.append(np.nan)\n",
    "        months.append(np.nan)\n",
    "    else:\n",
    "        new_str = value.lower().split()\n",
    "        years_ = int(new_str[0])\n",
    "        months_ = int(new_str[new_str.index('and')+1])\n",
    "        years.append(years_)\n",
    "        months.append(months_)\n",
    "drop_df['Credit_Age_years'] = pd.Series(years)\n",
    "drop_df['Credit_Age_months'] = pd.Series(months) \n",
    "drop_df.drop('Credit_History_Age',axis=1,inplace=True)"
   ]
  },
  {
   "cell_type": "code",
   "execution_count": 175,
   "metadata": {},
   "outputs": [
    {
     "name": "stdout",
     "output_type": "stream",
     "text": [
      "<class 'pandas.core.frame.DataFrame'>\n",
      "RangeIndex: 100000 entries, 0 to 99999\n",
      "Data columns (total 17 columns):\n",
      " #   Column                    Non-Null Count   Dtype  \n",
      "---  ------                    --------------   -----  \n",
      " 0   Age                       97219 non-null   float64\n",
      " 1   Occupation                92938 non-null   object \n",
      " 2   Annual_Income             100000 non-null  float64\n",
      " 3   Monthly_Inhand_Salary     84998 non-null   float64\n",
      " 4   Delay_from_due_date       100000 non-null  int64  \n",
      " 5   Num_of_Delayed_Payment    92998 non-null   float64\n",
      " 6   Num_Credit_Inquiries      98035 non-null   float64\n",
      " 7   Credit_Mix                100000 non-null  object \n",
      " 8   Outstanding_Debt          100000 non-null  object \n",
      " 9   Credit_Utilization_Ratio  100000 non-null  float64\n",
      " 10  Payment_of_Min_Amount     100000 non-null  object \n",
      " 11  Total_EMI_per_month       100000 non-null  float64\n",
      " 12  Payment_Behaviour         100000 non-null  object \n",
      " 13  Monthly_Balance           100000 non-null  float64\n",
      " 14  credit__score_label       100000 non-null  int64  \n",
      " 15  Credit_Age_years          90970 non-null   float64\n",
      " 16  Credit_Age_months         90970 non-null   float64\n",
      "dtypes: float64(10), int64(2), object(5)\n",
      "memory usage: 13.0+ MB\n"
     ]
    }
   ],
   "source": [
    "drop_df.info()"
   ]
  },
  {
   "cell_type": "markdown",
   "metadata": {},
   "source": [
    "# -----------Credit_Mix------------------"
   ]
  },
  {
   "cell_type": "code",
   "execution_count": 176,
   "metadata": {},
   "outputs": [
    {
     "data": {
      "text/plain": [
       "Standard    36479\n",
       "Good        24337\n",
       "_           20195\n",
       "Bad         18989\n",
       "Name: Credit_Mix, dtype: int64"
      ]
     },
     "execution_count": 176,
     "metadata": {},
     "output_type": "execute_result"
    }
   ],
   "source": [
    "drop_df[\"Credit_Mix\"].value_counts()"
   ]
  },
  {
   "cell_type": "code",
   "execution_count": 177,
   "metadata": {},
   "outputs": [],
   "source": [
    "drop_df['Credit_Mix']=drop_df['Credit_Mix'].replace('_',np.nan)\n"
   ]
  },
  {
   "cell_type": "code",
   "execution_count": 178,
   "metadata": {},
   "outputs": [],
   "source": [
    "\n",
    "lc=LabelEncoder()\n",
    "drop_df[\"Credit_Mix\"]=lc.fit_transform(drop_df[\"Credit_Mix\"])"
   ]
  },
  {
   "cell_type": "markdown",
   "metadata": {},
   "source": [
    "# --------------Payment_Behaviour----------------\n"
   ]
  },
  {
   "cell_type": "code",
   "execution_count": 179,
   "metadata": {},
   "outputs": [
    {
     "data": {
      "text/plain": [
       "Low_spent_Small_value_payments      25513\n",
       "High_spent_Medium_value_payments    17540\n",
       "Low_spent_Medium_value_payments     13861\n",
       "High_spent_Large_value_payments     13721\n",
       "High_spent_Small_value_payments     11340\n",
       "Low_spent_Large_value_payments      10425\n",
       "!@9#%8                               7600\n",
       "Name: Payment_Behaviour, dtype: int64"
      ]
     },
     "execution_count": 179,
     "metadata": {},
     "output_type": "execute_result"
    }
   ],
   "source": [
    "drop_df[\"Payment_Behaviour\"].value_counts()"
   ]
  },
  {
   "cell_type": "code",
   "execution_count": 180,
   "metadata": {},
   "outputs": [],
   "source": [
    "drop_df[\"Payment_Behaviour\"]=drop_df[\"Payment_Behaviour\"].replace(\"!@9#%8\",np.nan)"
   ]
  },
  {
   "cell_type": "code",
   "execution_count": 181,
   "metadata": {},
   "outputs": [],
   "source": [
    "from sklearn.preprocessing import LabelEncoder\n",
    "l=LabelEncoder()\n",
    "drop_df[\"Payment_Behaviour\"]=l.fit_transform(drop_df[\"Payment_Behaviour\"])"
   ]
  },
  {
   "cell_type": "code",
   "execution_count": 182,
   "metadata": {},
   "outputs": [],
   "source": [
    "drop_df[\"Payment_Behaviour\"].ffill(inplace=True)"
   ]
  },
  {
   "cell_type": "code",
   "execution_count": 183,
   "metadata": {},
   "outputs": [],
   "source": [
    "drop_df[\"Payment_Behaviour\"]=drop_df[\"Payment_Behaviour\"].astype(\"int64\")"
   ]
  },
  {
   "cell_type": "markdown",
   "metadata": {},
   "source": [
    "# ---------------Outstanding_Debt------------------------"
   ]
  },
  {
   "cell_type": "code",
   "execution_count": 184,
   "metadata": {},
   "outputs": [
    {
     "data": {
      "text/plain": [
       "0"
      ]
     },
     "execution_count": 184,
     "metadata": {},
     "output_type": "execute_result"
    }
   ],
   "source": [
    "drop_df[\"Outstanding_Debt\"].isna().sum()"
   ]
  },
  {
   "cell_type": "code",
   "execution_count": 185,
   "metadata": {},
   "outputs": [
    {
     "data": {
      "text/plain": [
       "1360.45     24\n",
       "460.46      23\n",
       "1151.7      23\n",
       "1109.03     23\n",
       "467.7       16\n",
       "            ..\n",
       "245.46_      1\n",
       "645.77_      1\n",
       "174.79_      1\n",
       "1181.13_     1\n",
       "1013.53_     1\n",
       "Name: Outstanding_Debt, Length: 13178, dtype: int64"
      ]
     },
     "execution_count": 185,
     "metadata": {},
     "output_type": "execute_result"
    }
   ],
   "source": [
    "drop_df[\"Outstanding_Debt\"].value_counts()"
   ]
  },
  {
   "cell_type": "code",
   "execution_count": 186,
   "metadata": {},
   "outputs": [],
   "source": [
    "drop_df[\"Outstanding_Debt\"] = drop_df[\"Outstanding_Debt\"].apply(filter_col)\n",
    "drop_df[\"Outstanding_Debt\"] = drop_df[\"Outstanding_Debt\"].astype(float)"
   ]
  },
  {
   "cell_type": "code",
   "execution_count": 187,
   "metadata": {},
   "outputs": [
    {
     "data": {
      "text/plain": [
       "1109.03    24\n",
       "1151.70    24\n",
       "1360.45    24\n",
       "460.46     24\n",
       "1058.13    16\n",
       "           ..\n",
       "4230.04     8\n",
       "641.99      8\n",
       "98.61       8\n",
       "2614.48     8\n",
       "502.38      8\n",
       "Name: Outstanding_Debt, Length: 12203, dtype: int64"
      ]
     },
     "execution_count": 187,
     "metadata": {},
     "output_type": "execute_result"
    }
   ],
   "source": [
    "drop_df[\"Outstanding_Debt\"].value_counts()"
   ]
  },
  {
   "cell_type": "markdown",
   "metadata": {},
   "source": [
    "# ------------------Num_Credit_Inquiries---------------------"
   ]
  },
  {
   "cell_type": "code",
   "execution_count": 188,
   "metadata": {},
   "outputs": [
    {
     "data": {
      "text/plain": [
       "4.0       11271\n",
       "3.0        8890\n",
       "6.0        8111\n",
       "7.0        8058\n",
       "2.0        8028\n",
       "          ...  \n",
       "1721.0        1\n",
       "1750.0        1\n",
       "2397.0        1\n",
       "621.0         1\n",
       "74.0          1\n",
       "Name: Num_Credit_Inquiries, Length: 1223, dtype: int64"
      ]
     },
     "execution_count": 188,
     "metadata": {},
     "output_type": "execute_result"
    }
   ],
   "source": [
    "drop_df[\"Num_Credit_Inquiries\"].value_counts()"
   ]
  },
  {
   "cell_type": "code",
   "execution_count": 189,
   "metadata": {},
   "outputs": [
    {
     "data": {
      "text/plain": [
       "0"
      ]
     },
     "execution_count": 189,
     "metadata": {},
     "output_type": "execute_result"
    }
   ],
   "source": [
    "(drop_df[\"Num_Credit_Inquiries\"]<0).sum()"
   ]
  },
  {
   "cell_type": "code",
   "execution_count": 190,
   "metadata": {},
   "outputs": [],
   "source": [
    "# age_bins = range(25,2600,200)  # Define your age ranges\n",
    "# plt.figure(figsize=(15,10),dpi=500)\n",
    "\n",
    "# # Use pd.cut to categorize ages into bins and get the frequency count\n",
    "# delay_ranges = pd.cut(drop_df[\"Num_Credit_Inquiries\"], bins=age_bins)\n",
    "# delay_counts = delay_ranges.value_counts().sort_index()\n",
    "\n",
    "# # Create a bar plot\n",
    "# delay_counts.plot(kind='bar', color='slateblue', edgecolor='black')\n",
    "\n",
    "# # Customize the plot\n",
    "# plt.xlabel('Num of credit enquiries')\n",
    "# plt.ylabel('Frequency')\n",
    "# plt.title('Credit Enquiries Distribution Bar Plot')\n",
    "\n",
    "# # Show the plot\n",
    "# plt.xticks(rotation=45)  # Rotate x-axis labels for better readability\n",
    "# plt.show()"
   ]
  },
  {
   "cell_type": "markdown",
   "metadata": {},
   "source": [
    "# -------------------Credit_Utilization_Ratio-----------------------\n"
   ]
  },
  {
   "cell_type": "code",
   "execution_count": 191,
   "metadata": {},
   "outputs": [],
   "source": [
    "drop_df[\"Credit_Utilization_Ratio\"]=drop_df[\"Credit_Utilization_Ratio\"].round(3)"
   ]
  },
  {
   "cell_type": "markdown",
   "metadata": {},
   "source": [
    "# ------------------Total_EMI_per_month----------------------"
   ]
  },
  {
   "cell_type": "code",
   "execution_count": 192,
   "metadata": {},
   "outputs": [],
   "source": [
    "drop_df[\"Total_EMI_per_month\"]=drop_df[\"Total_EMI_per_month\"].astype(\"float\").round(3)"
   ]
  },
  {
   "cell_type": "code",
   "execution_count": 193,
   "metadata": {},
   "outputs": [
    {
     "data": {
      "text/html": [
       "<div>\n",
       "<style scoped>\n",
       "    .dataframe tbody tr th:only-of-type {\n",
       "        vertical-align: middle;\n",
       "    }\n",
       "\n",
       "    .dataframe tbody tr th {\n",
       "        vertical-align: top;\n",
       "    }\n",
       "\n",
       "    .dataframe thead th {\n",
       "        text-align: right;\n",
       "    }\n",
       "</style>\n",
       "<table border=\"1\" class=\"dataframe\">\n",
       "  <thead>\n",
       "    <tr style=\"text-align: right;\">\n",
       "      <th></th>\n",
       "      <th>Age</th>\n",
       "      <th>Occupation</th>\n",
       "      <th>Annual_Income</th>\n",
       "      <th>Monthly_Inhand_Salary</th>\n",
       "      <th>Delay_from_due_date</th>\n",
       "      <th>Num_of_Delayed_Payment</th>\n",
       "      <th>Num_Credit_Inquiries</th>\n",
       "      <th>Credit_Mix</th>\n",
       "      <th>Outstanding_Debt</th>\n",
       "      <th>Credit_Utilization_Ratio</th>\n",
       "      <th>Payment_of_Min_Amount</th>\n",
       "      <th>Total_EMI_per_month</th>\n",
       "      <th>Payment_Behaviour</th>\n",
       "      <th>Monthly_Balance</th>\n",
       "      <th>credit__score_label</th>\n",
       "      <th>Credit_Age_years</th>\n",
       "      <th>Credit_Age_months</th>\n",
       "    </tr>\n",
       "  </thead>\n",
       "  <tbody>\n",
       "    <tr>\n",
       "      <th>0</th>\n",
       "      <td>23.0</td>\n",
       "      <td>Scientist</td>\n",
       "      <td>19114.12</td>\n",
       "      <td>1824.843333</td>\n",
       "      <td>3</td>\n",
       "      <td>7.0</td>\n",
       "      <td>4.0</td>\n",
       "      <td>3</td>\n",
       "      <td>809.98</td>\n",
       "      <td>26.823</td>\n",
       "      <td>No</td>\n",
       "      <td>49.575</td>\n",
       "      <td>2</td>\n",
       "      <td>312.494</td>\n",
       "      <td>0</td>\n",
       "      <td>22.0</td>\n",
       "      <td>1.0</td>\n",
       "    </tr>\n",
       "    <tr>\n",
       "      <th>1</th>\n",
       "      <td>23.0</td>\n",
       "      <td>Scientist</td>\n",
       "      <td>19114.12</td>\n",
       "      <td>NaN</td>\n",
       "      <td>0</td>\n",
       "      <td>NaN</td>\n",
       "      <td>4.0</td>\n",
       "      <td>1</td>\n",
       "      <td>809.98</td>\n",
       "      <td>31.945</td>\n",
       "      <td>No</td>\n",
       "      <td>49.575</td>\n",
       "      <td>3</td>\n",
       "      <td>284.629</td>\n",
       "      <td>0</td>\n",
       "      <td>NaN</td>\n",
       "      <td>NaN</td>\n",
       "    </tr>\n",
       "    <tr>\n",
       "      <th>2</th>\n",
       "      <td>NaN</td>\n",
       "      <td>Scientist</td>\n",
       "      <td>19114.12</td>\n",
       "      <td>NaN</td>\n",
       "      <td>3</td>\n",
       "      <td>7.0</td>\n",
       "      <td>4.0</td>\n",
       "      <td>1</td>\n",
       "      <td>809.98</td>\n",
       "      <td>28.609</td>\n",
       "      <td>No</td>\n",
       "      <td>49.575</td>\n",
       "      <td>4</td>\n",
       "      <td>331.210</td>\n",
       "      <td>0</td>\n",
       "      <td>22.0</td>\n",
       "      <td>3.0</td>\n",
       "    </tr>\n",
       "    <tr>\n",
       "      <th>3</th>\n",
       "      <td>23.0</td>\n",
       "      <td>Scientist</td>\n",
       "      <td>19114.12</td>\n",
       "      <td>NaN</td>\n",
       "      <td>5</td>\n",
       "      <td>4.0</td>\n",
       "      <td>4.0</td>\n",
       "      <td>1</td>\n",
       "      <td>809.98</td>\n",
       "      <td>31.378</td>\n",
       "      <td>No</td>\n",
       "      <td>49.575</td>\n",
       "      <td>5</td>\n",
       "      <td>223.451</td>\n",
       "      <td>0</td>\n",
       "      <td>22.0</td>\n",
       "      <td>4.0</td>\n",
       "    </tr>\n",
       "    <tr>\n",
       "      <th>4</th>\n",
       "      <td>23.0</td>\n",
       "      <td>Scientist</td>\n",
       "      <td>19114.12</td>\n",
       "      <td>1824.843333</td>\n",
       "      <td>6</td>\n",
       "      <td>NaN</td>\n",
       "      <td>4.0</td>\n",
       "      <td>1</td>\n",
       "      <td>809.98</td>\n",
       "      <td>24.797</td>\n",
       "      <td>No</td>\n",
       "      <td>49.575</td>\n",
       "      <td>1</td>\n",
       "      <td>341.489</td>\n",
       "      <td>0</td>\n",
       "      <td>22.0</td>\n",
       "      <td>5.0</td>\n",
       "    </tr>\n",
       "    <tr>\n",
       "      <th>...</th>\n",
       "      <td>...</td>\n",
       "      <td>...</td>\n",
       "      <td>...</td>\n",
       "      <td>...</td>\n",
       "      <td>...</td>\n",
       "      <td>...</td>\n",
       "      <td>...</td>\n",
       "      <td>...</td>\n",
       "      <td>...</td>\n",
       "      <td>...</td>\n",
       "      <td>...</td>\n",
       "      <td>...</td>\n",
       "      <td>...</td>\n",
       "      <td>...</td>\n",
       "      <td>...</td>\n",
       "      <td>...</td>\n",
       "      <td>...</td>\n",
       "    </tr>\n",
       "    <tr>\n",
       "      <th>99995</th>\n",
       "      <td>25.0</td>\n",
       "      <td>Mechanic</td>\n",
       "      <td>39628.99</td>\n",
       "      <td>3359.415833</td>\n",
       "      <td>23</td>\n",
       "      <td>7.0</td>\n",
       "      <td>3.0</td>\n",
       "      <td>3</td>\n",
       "      <td>502.38</td>\n",
       "      <td>34.664</td>\n",
       "      <td>No</td>\n",
       "      <td>35.104</td>\n",
       "      <td>0</td>\n",
       "      <td>479.866</td>\n",
       "      <td>1</td>\n",
       "      <td>31.0</td>\n",
       "      <td>6.0</td>\n",
       "    </tr>\n",
       "    <tr>\n",
       "      <th>99996</th>\n",
       "      <td>25.0</td>\n",
       "      <td>Mechanic</td>\n",
       "      <td>39628.99</td>\n",
       "      <td>3359.415833</td>\n",
       "      <td>18</td>\n",
       "      <td>7.0</td>\n",
       "      <td>3.0</td>\n",
       "      <td>3</td>\n",
       "      <td>502.38</td>\n",
       "      <td>40.566</td>\n",
       "      <td>No</td>\n",
       "      <td>35.104</td>\n",
       "      <td>1</td>\n",
       "      <td>496.652</td>\n",
       "      <td>1</td>\n",
       "      <td>31.0</td>\n",
       "      <td>7.0</td>\n",
       "    </tr>\n",
       "    <tr>\n",
       "      <th>99997</th>\n",
       "      <td>25.0</td>\n",
       "      <td>Mechanic</td>\n",
       "      <td>39628.99</td>\n",
       "      <td>3359.415833</td>\n",
       "      <td>27</td>\n",
       "      <td>6.0</td>\n",
       "      <td>3.0</td>\n",
       "      <td>1</td>\n",
       "      <td>502.38</td>\n",
       "      <td>41.256</td>\n",
       "      <td>No</td>\n",
       "      <td>35.104</td>\n",
       "      <td>0</td>\n",
       "      <td>516.809</td>\n",
       "      <td>1</td>\n",
       "      <td>31.0</td>\n",
       "      <td>8.0</td>\n",
       "    </tr>\n",
       "    <tr>\n",
       "      <th>99998</th>\n",
       "      <td>25.0</td>\n",
       "      <td>Mechanic</td>\n",
       "      <td>39628.99</td>\n",
       "      <td>3359.415833</td>\n",
       "      <td>20</td>\n",
       "      <td>NaN</td>\n",
       "      <td>3.0</td>\n",
       "      <td>1</td>\n",
       "      <td>502.38</td>\n",
       "      <td>33.638</td>\n",
       "      <td>No</td>\n",
       "      <td>35.104</td>\n",
       "      <td>3</td>\n",
       "      <td>319.165</td>\n",
       "      <td>2</td>\n",
       "      <td>31.0</td>\n",
       "      <td>9.0</td>\n",
       "    </tr>\n",
       "    <tr>\n",
       "      <th>99999</th>\n",
       "      <td>25.0</td>\n",
       "      <td>Mechanic</td>\n",
       "      <td>39628.99</td>\n",
       "      <td>3359.415833</td>\n",
       "      <td>18</td>\n",
       "      <td>6.0</td>\n",
       "      <td>3.0</td>\n",
       "      <td>1</td>\n",
       "      <td>502.38</td>\n",
       "      <td>34.192</td>\n",
       "      <td>No</td>\n",
       "      <td>35.104</td>\n",
       "      <td>6</td>\n",
       "      <td>393.674</td>\n",
       "      <td>1</td>\n",
       "      <td>31.0</td>\n",
       "      <td>10.0</td>\n",
       "    </tr>\n",
       "  </tbody>\n",
       "</table>\n",
       "<p>100000 rows × 17 columns</p>\n",
       "</div>"
      ],
      "text/plain": [
       "        Age Occupation  Annual_Income  Monthly_Inhand_Salary  \\\n",
       "0      23.0  Scientist       19114.12            1824.843333   \n",
       "1      23.0  Scientist       19114.12                    NaN   \n",
       "2       NaN  Scientist       19114.12                    NaN   \n",
       "3      23.0  Scientist       19114.12                    NaN   \n",
       "4      23.0  Scientist       19114.12            1824.843333   \n",
       "...     ...        ...            ...                    ...   \n",
       "99995  25.0   Mechanic       39628.99            3359.415833   \n",
       "99996  25.0   Mechanic       39628.99            3359.415833   \n",
       "99997  25.0   Mechanic       39628.99            3359.415833   \n",
       "99998  25.0   Mechanic       39628.99            3359.415833   \n",
       "99999  25.0   Mechanic       39628.99            3359.415833   \n",
       "\n",
       "       Delay_from_due_date  Num_of_Delayed_Payment  Num_Credit_Inquiries  \\\n",
       "0                        3                     7.0                   4.0   \n",
       "1                        0                     NaN                   4.0   \n",
       "2                        3                     7.0                   4.0   \n",
       "3                        5                     4.0                   4.0   \n",
       "4                        6                     NaN                   4.0   \n",
       "...                    ...                     ...                   ...   \n",
       "99995                   23                     7.0                   3.0   \n",
       "99996                   18                     7.0                   3.0   \n",
       "99997                   27                     6.0                   3.0   \n",
       "99998                   20                     NaN                   3.0   \n",
       "99999                   18                     6.0                   3.0   \n",
       "\n",
       "       Credit_Mix  Outstanding_Debt  Credit_Utilization_Ratio  \\\n",
       "0               3            809.98                    26.823   \n",
       "1               1            809.98                    31.945   \n",
       "2               1            809.98                    28.609   \n",
       "3               1            809.98                    31.378   \n",
       "4               1            809.98                    24.797   \n",
       "...           ...               ...                       ...   \n",
       "99995           3            502.38                    34.664   \n",
       "99996           3            502.38                    40.566   \n",
       "99997           1            502.38                    41.256   \n",
       "99998           1            502.38                    33.638   \n",
       "99999           1            502.38                    34.192   \n",
       "\n",
       "      Payment_of_Min_Amount  Total_EMI_per_month  Payment_Behaviour  \\\n",
       "0                        No               49.575                  2   \n",
       "1                        No               49.575                  3   \n",
       "2                        No               49.575                  4   \n",
       "3                        No               49.575                  5   \n",
       "4                        No               49.575                  1   \n",
       "...                     ...                  ...                ...   \n",
       "99995                    No               35.104                  0   \n",
       "99996                    No               35.104                  1   \n",
       "99997                    No               35.104                  0   \n",
       "99998                    No               35.104                  3   \n",
       "99999                    No               35.104                  6   \n",
       "\n",
       "       Monthly_Balance  credit__score_label  Credit_Age_years  \\\n",
       "0              312.494                    0              22.0   \n",
       "1              284.629                    0               NaN   \n",
       "2              331.210                    0              22.0   \n",
       "3              223.451                    0              22.0   \n",
       "4              341.489                    0              22.0   \n",
       "...                ...                  ...               ...   \n",
       "99995          479.866                    1              31.0   \n",
       "99996          496.652                    1              31.0   \n",
       "99997          516.809                    1              31.0   \n",
       "99998          319.165                    2              31.0   \n",
       "99999          393.674                    1              31.0   \n",
       "\n",
       "       Credit_Age_months  \n",
       "0                    1.0  \n",
       "1                    NaN  \n",
       "2                    3.0  \n",
       "3                    4.0  \n",
       "4                    5.0  \n",
       "...                  ...  \n",
       "99995                6.0  \n",
       "99996                7.0  \n",
       "99997                8.0  \n",
       "99998                9.0  \n",
       "99999               10.0  \n",
       "\n",
       "[100000 rows x 17 columns]"
      ]
     },
     "execution_count": 193,
     "metadata": {},
     "output_type": "execute_result"
    }
   ],
   "source": [
    "drop_df"
   ]
  },
  {
   "cell_type": "code",
   "execution_count": 194,
   "metadata": {},
   "outputs": [
    {
     "name": "stdout",
     "output_type": "stream",
     "text": [
      "<class 'pandas.core.frame.DataFrame'>\n",
      "RangeIndex: 100000 entries, 0 to 99999\n",
      "Data columns (total 17 columns):\n",
      " #   Column                    Non-Null Count   Dtype  \n",
      "---  ------                    --------------   -----  \n",
      " 0   Age                       97219 non-null   float64\n",
      " 1   Occupation                92938 non-null   object \n",
      " 2   Annual_Income             100000 non-null  float64\n",
      " 3   Monthly_Inhand_Salary     84998 non-null   float64\n",
      " 4   Delay_from_due_date       100000 non-null  int64  \n",
      " 5   Num_of_Delayed_Payment    92998 non-null   float64\n",
      " 6   Num_Credit_Inquiries      98035 non-null   float64\n",
      " 7   Credit_Mix                100000 non-null  int64  \n",
      " 8   Outstanding_Debt          100000 non-null  float64\n",
      " 9   Credit_Utilization_Ratio  100000 non-null  float64\n",
      " 10  Payment_of_Min_Amount     100000 non-null  object \n",
      " 11  Total_EMI_per_month       100000 non-null  float64\n",
      " 12  Payment_Behaviour         100000 non-null  int64  \n",
      " 13  Monthly_Balance           100000 non-null  float64\n",
      " 14  credit__score_label       100000 non-null  int64  \n",
      " 15  Credit_Age_years          90970 non-null   float64\n",
      " 16  Credit_Age_months         90970 non-null   float64\n",
      "dtypes: float64(11), int64(4), object(2)\n",
      "memory usage: 13.0+ MB\n"
     ]
    }
   ],
   "source": [
    "drop_df.info()"
   ]
  },
  {
   "cell_type": "code",
   "execution_count": 195,
   "metadata": {},
   "outputs": [
    {
     "data": {
      "text/plain": [
       "Index(['Age', 'Occupation', 'Annual_Income', 'Monthly_Inhand_Salary',\n",
       "       'Delay_from_due_date', 'Num_of_Delayed_Payment', 'Num_Credit_Inquiries',\n",
       "       'Credit_Mix', 'Outstanding_Debt', 'Credit_Utilization_Ratio',\n",
       "       'Payment_of_Min_Amount', 'Total_EMI_per_month', 'Payment_Behaviour',\n",
       "       'Monthly_Balance', 'credit__score_label', 'Credit_Age_years',\n",
       "       'Credit_Age_months'],\n",
       "      dtype='object')"
      ]
     },
     "execution_count": 195,
     "metadata": {},
     "output_type": "execute_result"
    }
   ],
   "source": [
    "drop_df.columns"
   ]
  },
  {
   "cell_type": "code",
   "execution_count": 196,
   "metadata": {},
   "outputs": [
    {
     "data": {
      "text/plain": [
       "Age                          2781\n",
       "Occupation                   7062\n",
       "Annual_Income                   0\n",
       "Monthly_Inhand_Salary       15002\n",
       "Delay_from_due_date             0\n",
       "Num_of_Delayed_Payment       7002\n",
       "Num_Credit_Inquiries         1965\n",
       "Credit_Mix                      0\n",
       "Outstanding_Debt                0\n",
       "Credit_Utilization_Ratio        0\n",
       "Payment_of_Min_Amount           0\n",
       "Total_EMI_per_month             0\n",
       "Payment_Behaviour               0\n",
       "Monthly_Balance                 0\n",
       "credit__score_label             0\n",
       "Credit_Age_years             9030\n",
       "Credit_Age_months            9030\n",
       "dtype: int64"
      ]
     },
     "execution_count": 196,
     "metadata": {},
     "output_type": "execute_result"
    }
   ],
   "source": [
    "drop_df.isnull().sum()"
   ]
  },
  {
   "cell_type": "markdown",
   "metadata": {},
   "source": [
    "using forward fill (ffill) to impute missing values in the \"Occupation\" column based on the context of the \"Monthly_Inhand_Salary\" values. Forward fill is a method commonly used to propagate the last valid observation forward to fill gaps in the data."
   ]
  },
  {
   "cell_type": "code",
   "execution_count": 197,
   "metadata": {},
   "outputs": [
    {
     "data": {
      "text/plain": [
       "6769.130000     15\n",
       "6358.956667     15\n",
       "2295.058333     15\n",
       "6082.187500     15\n",
       "3080.555000     14\n",
       "4387.272500     13\n",
       "5766.491667     13\n",
       "6639.560000     13\n",
       "536.431250      12\n",
       "1315.560833     11\n",
       "2557.861667      9\n",
       "1476.062917      8\n",
       "2610.171667      8\n",
       "9641.480000      8\n",
       "11624.846667     8\n",
       "1393.486667      8\n",
       "1801.474167      8\n",
       "7554.577500      8\n",
       "1365.173333      8\n",
       "1474.625417      8\n",
       "Name: Monthly_Inhand_Salary, dtype: int64"
      ]
     },
     "execution_count": 197,
     "metadata": {},
     "output_type": "execute_result"
    }
   ],
   "source": [
    "drop_df[\"Monthly_Inhand_Salary\"].value_counts().head(20)     #to know why i use ffill\n"
   ]
  },
  {
   "cell_type": "code",
   "execution_count": 198,
   "metadata": {},
   "outputs": [
    {
     "data": {
      "text/plain": [
       "59144    Manager\n",
       "59145    Manager\n",
       "59146        NaN\n",
       "59147    Manager\n",
       "59148    Manager\n",
       "59149    Manager\n",
       "59150    Manager\n",
       "59151    Manager\n",
       "Name: Occupation, dtype: object"
      ]
     },
     "execution_count": 198,
     "metadata": {},
     "output_type": "execute_result"
    }
   ],
   "source": [
    "drop_df.loc[drop_df[\"Monthly_Inhand_Salary\"] ==1359.206250, \"Occupation\"] #to know why i use ffill\n"
   ]
  },
  {
   "cell_type": "code",
   "execution_count": 199,
   "metadata": {},
   "outputs": [],
   "source": [
    "drop_df['Occupation'].ffill(inplace=True)\n"
   ]
  },
  {
   "cell_type": "code",
   "execution_count": 200,
   "metadata": {},
   "outputs": [],
   "source": [
    "drop_df[\"Monthly_Inhand_Salary\"].value_counts().head(10)\n",
    "drop_df.loc[drop_df[\"Monthly_Inhand_Salary\"] ==1359.206250, \"Occupation\"] \n",
    "drop_df.drop('Monthly_Inhand_Salary',axis=1,inplace=True)\n",
    "\n"
   ]
  },
  {
   "cell_type": "code",
   "execution_count": 201,
   "metadata": {},
   "outputs": [],
   "source": [
    "encoder = OneHotEncoder()\n",
    "encoded_pay_min_amt= encoder.fit_transform(drop_df[[\"Payment_of_Min_Amount\"]])\n",
    "df_encoded = pd.DataFrame(encoded_pay_min_amt.toarray(), columns=encoder.get_feature_names_out([\"Payment_of_Min_Amount\"]))\n",
    "combined_df = pd.concat([drop_df, df_encoded], axis=1)\n",
    "combined_df.drop('Payment_of_Min_Amount',axis=1,inplace=True)"
   ]
  },
  {
   "cell_type": "code",
   "execution_count": 202,
   "metadata": {},
   "outputs": [],
   "source": [
    "# encoder = OneHotEncoder()\n",
    "# encoded_pay_min_amt= encoder.fit_transform(combined_df[[\"Occupation\"]])\n",
    "# df_encoded = pd.DataFrame(encoded_pay_min_amt.toarray(), columns=encoder.get_feature_names_out([\"Occupation\"]))\n",
    "# combined_df = pd.concat([combined_df, df_encoded], axis=1)\n",
    "# combined_df.drop('Occupation',axis=1,inplace=True)"
   ]
  },
  {
   "cell_type": "code",
   "execution_count": 203,
   "metadata": {},
   "outputs": [
    {
     "data": {
      "text/plain": [
       "Age                         2781\n",
       "Occupation                     0\n",
       "Annual_Income                  0\n",
       "Delay_from_due_date            0\n",
       "Num_of_Delayed_Payment      7002\n",
       "Num_Credit_Inquiries        1965\n",
       "Credit_Mix                     0\n",
       "Outstanding_Debt               0\n",
       "Credit_Utilization_Ratio       0\n",
       "Payment_of_Min_Amount          0\n",
       "Total_EMI_per_month            0\n",
       "Payment_Behaviour              0\n",
       "Monthly_Balance                0\n",
       "credit__score_label            0\n",
       "Credit_Age_years            9030\n",
       "Credit_Age_months           9030\n",
       "dtype: int64"
      ]
     },
     "execution_count": 203,
     "metadata": {},
     "output_type": "execute_result"
    }
   ],
   "source": [
    "drop_df.isnull().sum()\n"
   ]
  },
  {
   "cell_type": "code",
   "execution_count": 204,
   "metadata": {},
   "outputs": [],
   "source": [
    "# plt.figure(figsize=(19,13),dpi=500)\n",
    "# sns.heatmap(combined_df.corr(),annot=True)"
   ]
  },
  {
   "cell_type": "code",
   "execution_count": 205,
   "metadata": {},
   "outputs": [
    {
     "data": {
      "text/plain": [
       "Index(['Age', 'Occupation', 'Annual_Income', 'Delay_from_due_date',\n",
       "       'Num_of_Delayed_Payment', 'Num_Credit_Inquiries', 'Credit_Mix',\n",
       "       'Outstanding_Debt', 'Credit_Utilization_Ratio', 'Total_EMI_per_month',\n",
       "       'Payment_Behaviour', 'Monthly_Balance', 'credit__score_label',\n",
       "       'Credit_Age_years', 'Credit_Age_months', 'Payment_of_Min_Amount_NM',\n",
       "       'Payment_of_Min_Amount_No', 'Payment_of_Min_Amount_Yes'],\n",
       "      dtype='object')"
      ]
     },
     "execution_count": 205,
     "metadata": {},
     "output_type": "execute_result"
    }
   ],
   "source": [
    "combined_df.columns"
   ]
  },
  {
   "cell_type": "code",
   "execution_count": 206,
   "metadata": {},
   "outputs": [],
   "source": [
    "combined_df['credit__score_label'] = combined_df.pop(\"credit__score_label\")"
   ]
  },
  {
   "cell_type": "code",
   "execution_count": 207,
   "metadata": {},
   "outputs": [
    {
     "data": {
      "text/html": [
       "<div>\n",
       "<style scoped>\n",
       "    .dataframe tbody tr th:only-of-type {\n",
       "        vertical-align: middle;\n",
       "    }\n",
       "\n",
       "    .dataframe tbody tr th {\n",
       "        vertical-align: top;\n",
       "    }\n",
       "\n",
       "    .dataframe thead th {\n",
       "        text-align: right;\n",
       "    }\n",
       "</style>\n",
       "<table border=\"1\" class=\"dataframe\">\n",
       "  <thead>\n",
       "    <tr style=\"text-align: right;\">\n",
       "      <th></th>\n",
       "      <th>Age</th>\n",
       "      <th>Occupation</th>\n",
       "      <th>Annual_Income</th>\n",
       "      <th>Delay_from_due_date</th>\n",
       "      <th>Num_of_Delayed_Payment</th>\n",
       "      <th>Num_Credit_Inquiries</th>\n",
       "      <th>Credit_Mix</th>\n",
       "      <th>Outstanding_Debt</th>\n",
       "      <th>Credit_Utilization_Ratio</th>\n",
       "      <th>Total_EMI_per_month</th>\n",
       "      <th>Payment_Behaviour</th>\n",
       "      <th>Monthly_Balance</th>\n",
       "      <th>Credit_Age_years</th>\n",
       "      <th>Credit_Age_months</th>\n",
       "      <th>Payment_of_Min_Amount_NM</th>\n",
       "      <th>Payment_of_Min_Amount_No</th>\n",
       "      <th>Payment_of_Min_Amount_Yes</th>\n",
       "      <th>credit__score_label</th>\n",
       "    </tr>\n",
       "  </thead>\n",
       "  <tbody>\n",
       "    <tr>\n",
       "      <th>0</th>\n",
       "      <td>23.0</td>\n",
       "      <td>Scientist</td>\n",
       "      <td>19114.12</td>\n",
       "      <td>3</td>\n",
       "      <td>7.0</td>\n",
       "      <td>4.0</td>\n",
       "      <td>3</td>\n",
       "      <td>809.98</td>\n",
       "      <td>26.823</td>\n",
       "      <td>49.575</td>\n",
       "      <td>2</td>\n",
       "      <td>312.494</td>\n",
       "      <td>22.0</td>\n",
       "      <td>1.0</td>\n",
       "      <td>0.0</td>\n",
       "      <td>1.0</td>\n",
       "      <td>0.0</td>\n",
       "      <td>0</td>\n",
       "    </tr>\n",
       "    <tr>\n",
       "      <th>1</th>\n",
       "      <td>23.0</td>\n",
       "      <td>Scientist</td>\n",
       "      <td>19114.12</td>\n",
       "      <td>0</td>\n",
       "      <td>NaN</td>\n",
       "      <td>4.0</td>\n",
       "      <td>1</td>\n",
       "      <td>809.98</td>\n",
       "      <td>31.945</td>\n",
       "      <td>49.575</td>\n",
       "      <td>3</td>\n",
       "      <td>284.629</td>\n",
       "      <td>NaN</td>\n",
       "      <td>NaN</td>\n",
       "      <td>0.0</td>\n",
       "      <td>1.0</td>\n",
       "      <td>0.0</td>\n",
       "      <td>0</td>\n",
       "    </tr>\n",
       "    <tr>\n",
       "      <th>2</th>\n",
       "      <td>NaN</td>\n",
       "      <td>Scientist</td>\n",
       "      <td>19114.12</td>\n",
       "      <td>3</td>\n",
       "      <td>7.0</td>\n",
       "      <td>4.0</td>\n",
       "      <td>1</td>\n",
       "      <td>809.98</td>\n",
       "      <td>28.609</td>\n",
       "      <td>49.575</td>\n",
       "      <td>4</td>\n",
       "      <td>331.210</td>\n",
       "      <td>22.0</td>\n",
       "      <td>3.0</td>\n",
       "      <td>0.0</td>\n",
       "      <td>1.0</td>\n",
       "      <td>0.0</td>\n",
       "      <td>0</td>\n",
       "    </tr>\n",
       "    <tr>\n",
       "      <th>3</th>\n",
       "      <td>23.0</td>\n",
       "      <td>Scientist</td>\n",
       "      <td>19114.12</td>\n",
       "      <td>5</td>\n",
       "      <td>4.0</td>\n",
       "      <td>4.0</td>\n",
       "      <td>1</td>\n",
       "      <td>809.98</td>\n",
       "      <td>31.378</td>\n",
       "      <td>49.575</td>\n",
       "      <td>5</td>\n",
       "      <td>223.451</td>\n",
       "      <td>22.0</td>\n",
       "      <td>4.0</td>\n",
       "      <td>0.0</td>\n",
       "      <td>1.0</td>\n",
       "      <td>0.0</td>\n",
       "      <td>0</td>\n",
       "    </tr>\n",
       "    <tr>\n",
       "      <th>4</th>\n",
       "      <td>23.0</td>\n",
       "      <td>Scientist</td>\n",
       "      <td>19114.12</td>\n",
       "      <td>6</td>\n",
       "      <td>NaN</td>\n",
       "      <td>4.0</td>\n",
       "      <td>1</td>\n",
       "      <td>809.98</td>\n",
       "      <td>24.797</td>\n",
       "      <td>49.575</td>\n",
       "      <td>1</td>\n",
       "      <td>341.489</td>\n",
       "      <td>22.0</td>\n",
       "      <td>5.0</td>\n",
       "      <td>0.0</td>\n",
       "      <td>1.0</td>\n",
       "      <td>0.0</td>\n",
       "      <td>0</td>\n",
       "    </tr>\n",
       "  </tbody>\n",
       "</table>\n",
       "</div>"
      ],
      "text/plain": [
       "    Age Occupation  Annual_Income  Delay_from_due_date  \\\n",
       "0  23.0  Scientist       19114.12                    3   \n",
       "1  23.0  Scientist       19114.12                    0   \n",
       "2   NaN  Scientist       19114.12                    3   \n",
       "3  23.0  Scientist       19114.12                    5   \n",
       "4  23.0  Scientist       19114.12                    6   \n",
       "\n",
       "   Num_of_Delayed_Payment  Num_Credit_Inquiries  Credit_Mix  Outstanding_Debt  \\\n",
       "0                     7.0                   4.0           3            809.98   \n",
       "1                     NaN                   4.0           1            809.98   \n",
       "2                     7.0                   4.0           1            809.98   \n",
       "3                     4.0                   4.0           1            809.98   \n",
       "4                     NaN                   4.0           1            809.98   \n",
       "\n",
       "   Credit_Utilization_Ratio  Total_EMI_per_month  Payment_Behaviour  \\\n",
       "0                    26.823               49.575                  2   \n",
       "1                    31.945               49.575                  3   \n",
       "2                    28.609               49.575                  4   \n",
       "3                    31.378               49.575                  5   \n",
       "4                    24.797               49.575                  1   \n",
       "\n",
       "   Monthly_Balance  Credit_Age_years  Credit_Age_months  \\\n",
       "0          312.494              22.0                1.0   \n",
       "1          284.629               NaN                NaN   \n",
       "2          331.210              22.0                3.0   \n",
       "3          223.451              22.0                4.0   \n",
       "4          341.489              22.0                5.0   \n",
       "\n",
       "   Payment_of_Min_Amount_NM  Payment_of_Min_Amount_No  \\\n",
       "0                       0.0                       1.0   \n",
       "1                       0.0                       1.0   \n",
       "2                       0.0                       1.0   \n",
       "3                       0.0                       1.0   \n",
       "4                       0.0                       1.0   \n",
       "\n",
       "   Payment_of_Min_Amount_Yes  credit__score_label  \n",
       "0                        0.0                    0  \n",
       "1                        0.0                    0  \n",
       "2                        0.0                    0  \n",
       "3                        0.0                    0  \n",
       "4                        0.0                    0  "
      ]
     },
     "execution_count": 207,
     "metadata": {},
     "output_type": "execute_result"
    }
   ],
   "source": [
    "combined_df.head()"
   ]
  },
  {
   "cell_type": "code",
   "execution_count": 208,
   "metadata": {},
   "outputs": [
    {
     "name": "stdout",
     "output_type": "stream",
     "text": [
      "<class 'pandas.core.frame.DataFrame'>\n",
      "RangeIndex: 100000 entries, 0 to 99999\n",
      "Data columns (total 18 columns):\n",
      " #   Column                     Non-Null Count   Dtype  \n",
      "---  ------                     --------------   -----  \n",
      " 0   Age                        97219 non-null   float64\n",
      " 1   Occupation                 100000 non-null  object \n",
      " 2   Annual_Income              100000 non-null  float64\n",
      " 3   Delay_from_due_date        100000 non-null  int64  \n",
      " 4   Num_of_Delayed_Payment     92998 non-null   float64\n",
      " 5   Num_Credit_Inquiries       98035 non-null   float64\n",
      " 6   Credit_Mix                 100000 non-null  int64  \n",
      " 7   Outstanding_Debt           100000 non-null  float64\n",
      " 8   Credit_Utilization_Ratio   100000 non-null  float64\n",
      " 9   Total_EMI_per_month        100000 non-null  float64\n",
      " 10  Payment_Behaviour          100000 non-null  int64  \n",
      " 11  Monthly_Balance            100000 non-null  float64\n",
      " 12  Credit_Age_years           90970 non-null   float64\n",
      " 13  Credit_Age_months          90970 non-null   float64\n",
      " 14  Payment_of_Min_Amount_NM   100000 non-null  float64\n",
      " 15  Payment_of_Min_Amount_No   100000 non-null  float64\n",
      " 16  Payment_of_Min_Amount_Yes  100000 non-null  float64\n",
      " 17  credit__score_label        100000 non-null  int64  \n",
      "dtypes: float64(13), int64(4), object(1)\n",
      "memory usage: 13.7+ MB\n"
     ]
    }
   ],
   "source": [
    "combined_df.info()"
   ]
  },
  {
   "cell_type": "code",
   "execution_count": 209,
   "metadata": {},
   "outputs": [],
   "source": [
    "# from sklearn.preprocessing import LabelEncoder\n",
    "# l=LabelEncoder()\n",
    "# combined_df[\"Occupation\"]=l.fit_transform(combined_df[\"Occupation\"])"
   ]
  },
  {
   "cell_type": "code",
   "execution_count": 210,
   "metadata": {},
   "outputs": [
    {
     "name": "stdout",
     "output_type": "stream",
     "text": [
      "<class 'pandas.core.frame.DataFrame'>\n",
      "RangeIndex: 100000 entries, 0 to 99999\n",
      "Data columns (total 18 columns):\n",
      " #   Column                     Non-Null Count   Dtype  \n",
      "---  ------                     --------------   -----  \n",
      " 0   Age                        97219 non-null   float64\n",
      " 1   Occupation                 100000 non-null  object \n",
      " 2   Annual_Income              100000 non-null  float64\n",
      " 3   Delay_from_due_date        100000 non-null  int64  \n",
      " 4   Num_of_Delayed_Payment     92998 non-null   float64\n",
      " 5   Num_Credit_Inquiries       98035 non-null   float64\n",
      " 6   Credit_Mix                 100000 non-null  int64  \n",
      " 7   Outstanding_Debt           100000 non-null  float64\n",
      " 8   Credit_Utilization_Ratio   100000 non-null  float64\n",
      " 9   Total_EMI_per_month        100000 non-null  float64\n",
      " 10  Payment_Behaviour          100000 non-null  int64  \n",
      " 11  Monthly_Balance            100000 non-null  float64\n",
      " 12  Credit_Age_years           90970 non-null   float64\n",
      " 13  Credit_Age_months          90970 non-null   float64\n",
      " 14  Payment_of_Min_Amount_NM   100000 non-null  float64\n",
      " 15  Payment_of_Min_Amount_No   100000 non-null  float64\n",
      " 16  Payment_of_Min_Amount_Yes  100000 non-null  float64\n",
      " 17  credit__score_label        100000 non-null  int64  \n",
      "dtypes: float64(13), int64(4), object(1)\n",
      "memory usage: 13.7+ MB\n"
     ]
    }
   ],
   "source": [
    "combined_df.info()"
   ]
  },
  {
   "cell_type": "code",
   "execution_count": 211,
   "metadata": {},
   "outputs": [],
   "source": [
    "# plt.figure(figsize=(25,16))\n",
    "# sns.heatmap(combined_df.corr(),annot=True)"
   ]
  },
  {
   "cell_type": "code",
   "execution_count": 212,
   "metadata": {},
   "outputs": [],
   "source": [
    "# print(combined_df.columns,sorted(combined_df.corr()[\"credit__score_label\"]))"
   ]
  },
  {
   "cell_type": "code",
   "execution_count": 213,
   "metadata": {},
   "outputs": [
    {
     "name": "stdout",
     "output_type": "stream",
     "text": [
      "Sorted Correlation Values:\n",
      "Credit_Age_months            0.000808\n",
      "Num_Credit_Inquiries         0.001929\n",
      "Total_EMI_per_month          0.002369\n",
      "Annual_Income                0.002906\n",
      "Num_of_Delayed_Payment       0.008163\n",
      "Payment_of_Min_Amount_NM     0.009854\n",
      "Credit_Utilization_Ratio     0.014370\n",
      "Payment_Behaviour            0.018793\n",
      "Outstanding_Debt             0.037153\n",
      "Monthly_Balance              0.058271\n",
      "Age                          0.058464\n",
      "Delay_from_due_date          0.097419\n",
      "Credit_Age_years             0.102157\n",
      "Credit_Mix                   0.144913\n",
      "Payment_of_Min_Amount_Yes    0.243400\n",
      "Payment_of_Min_Amount_No     0.247100\n",
      "credit__score_label          1.000000\n",
      "Name: credit__score_label, dtype: float64\n"
     ]
    }
   ],
   "source": [
    "import pandas as pd\n",
    "\n",
    "# Assuming 'combined_df' is your DataFrame\n",
    "# Replace this with your actual DataFrame\n",
    "\n",
    "# Print column names\n",
    "# print(\"Column Names:\", combined_df.columns)\n",
    "\n",
    "# Calculate and print correlation values with respect to \"credit__score_label\"\n",
    "correlation_values = abs(combined_df.corr()[\"credit__score_label\"]).sort_values()\n",
    "print(\"Sorted Correlation Values:\")\n",
    "print(correlation_values)\n"
   ]
  },
  {
   "cell_type": "code",
   "execution_count": 214,
   "metadata": {},
   "outputs": [
    {
     "data": {
      "text/plain": [
       "Age                          2781\n",
       "Occupation                      0\n",
       "Annual_Income                   0\n",
       "Delay_from_due_date             0\n",
       "Num_of_Delayed_Payment       7002\n",
       "Num_Credit_Inquiries         1965\n",
       "Credit_Mix                      0\n",
       "Outstanding_Debt                0\n",
       "Credit_Utilization_Ratio        0\n",
       "Total_EMI_per_month             0\n",
       "Payment_Behaviour               0\n",
       "Monthly_Balance                 0\n",
       "Credit_Age_years             9030\n",
       "Credit_Age_months            9030\n",
       "Payment_of_Min_Amount_NM        0\n",
       "Payment_of_Min_Amount_No        0\n",
       "Payment_of_Min_Amount_Yes       0\n",
       "credit__score_label             0\n",
       "dtype: int64"
      ]
     },
     "execution_count": 214,
     "metadata": {},
     "output_type": "execute_result"
    }
   ],
   "source": [
    "combined_df.isnull().sum()"
   ]
  },
  {
   "cell_type": "code",
   "execution_count": 215,
   "metadata": {},
   "outputs": [],
   "source": [
    "numerical_data = []\n",
    "object_data = []\n",
    "\n",
    "for column in combined_df.columns:\n",
    "    if combined_df.dtypes[column] != 'object':\n",
    "        numerical_data.append(column)\n",
    "    else:\n",
    "        object_data.append(column)\n",
    "imputer = KNNImputer(n_neighbors=5)\n",
    "combined_df[numerical_data] = imputer.fit_transform(combined_df[numerical_data])\n"
   ]
  },
  {
   "cell_type": "code",
   "execution_count": 216,
   "metadata": {},
   "outputs": [
    {
     "data": {
      "text/plain": [
       "Age                          0\n",
       "Occupation                   0\n",
       "Annual_Income                0\n",
       "Delay_from_due_date          0\n",
       "Num_of_Delayed_Payment       0\n",
       "Num_Credit_Inquiries         0\n",
       "Credit_Mix                   0\n",
       "Outstanding_Debt             0\n",
       "Credit_Utilization_Ratio     0\n",
       "Total_EMI_per_month          0\n",
       "Payment_Behaviour            0\n",
       "Monthly_Balance              0\n",
       "Credit_Age_years             0\n",
       "Credit_Age_months            0\n",
       "Payment_of_Min_Amount_NM     0\n",
       "Payment_of_Min_Amount_No     0\n",
       "Payment_of_Min_Amount_Yes    0\n",
       "credit__score_label          0\n",
       "dtype: int64"
      ]
     },
     "execution_count": 216,
     "metadata": {},
     "output_type": "execute_result"
    }
   ],
   "source": [
    "combined_df.isnull().sum()\n"
   ]
  },
  {
   "cell_type": "code",
   "execution_count": 217,
   "metadata": {},
   "outputs": [
    {
     "name": "stdout",
     "output_type": "stream",
     "text": [
      "Chi-square test results for Age:\n",
      "Chi-square statistic: 5229.7941235488015\n",
      "P-value: 0.0\n",
      "Degrees of freedom: 414\n",
      "\n",
      "Chi-square test results for Occupation:\n",
      "Chi-square statistic: 181.1000250439237\n",
      "P-value: 2.4338587925736514e-24\n",
      "Degrees of freedom: 28\n",
      "\n",
      "Chi-square test results for Annual_Income:\n",
      "Chi-square statistic: 134413.15470134554\n",
      "P-value: 0.0\n",
      "Degrees of freedom: 26972\n",
      "\n",
      "Chi-square test results for Delay_from_due_date:\n",
      "Chi-square statistic: 24626.21630538984\n",
      "P-value: 0.0\n",
      "Degrees of freedom: 134\n",
      "\n",
      "Chi-square test results for Num_of_Delayed_Payment:\n",
      "Chi-square statistic: 20540.304751840395\n",
      "P-value: 0.0\n",
      "Degrees of freedom: 2120\n",
      "\n",
      "Chi-square test results for Num_Credit_Inquiries:\n",
      "Chi-square statistic: 24757.520917864946\n",
      "P-value: 0.0\n",
      "Degrees of freedom: 2820\n",
      "\n",
      "Chi-square test results for Credit_Mix:\n",
      "Chi-square statistic: 32349.29941440455\n",
      "P-value: 0.0\n",
      "Degrees of freedom: 6\n",
      "\n",
      "Chi-square test results for Outstanding_Debt:\n",
      "Chi-square statistic: 131136.80570514553\n",
      "P-value: 0.0\n",
      "Degrees of freedom: 24404\n",
      "\n",
      "Chi-square test results for Credit_Utilization_Ratio:\n",
      "Chi-square statistic: 41248.72581686868\n",
      "P-value: 0.1633416447042912\n",
      "Degrees of freedom: 40968\n",
      "\n",
      "Chi-square test results for Total_EMI_per_month:\n",
      "Chi-square statistic: 121775.63054776572\n",
      "P-value: 0.0\n",
      "Degrees of freedom: 29280\n",
      "\n",
      "Chi-square test results for Payment_Behaviour:\n",
      "Chi-square statistic: 1430.4885276214886\n",
      "P-value: 3.711043470016801e-299\n",
      "Degrees of freedom: 12\n",
      "\n",
      "Chi-square test results for Monthly_Balance:\n",
      "Chi-square statistic: 179753.8132882256\n",
      "P-value: 0.08439107433520428\n",
      "Degrees of freedom: 178930\n",
      "\n",
      "Chi-square test results for Credit_Age_years:\n",
      "Chi-square statistic: 18179.05629802189\n",
      "P-value: 0.0\n",
      "Degrees of freedom: 330\n",
      "\n",
      "Chi-square test results for Credit_Age_months:\n",
      "Chi-square statistic: 90.62211694810793\n",
      "P-value: 0.6889520016788552\n",
      "Degrees of freedom: 98\n",
      "\n",
      "Chi-square test results for Payment_of_Min_Amount_NM:\n",
      "Chi-square statistic: 9.732442404685935\n",
      "P-value: 0.007702416236927056\n",
      "Degrees of freedom: 2\n",
      "\n",
      "Chi-square test results for Payment_of_Min_Amount_No:\n",
      "Chi-square statistic: 17983.37667966647\n",
      "P-value: 0.0\n",
      "Degrees of freedom: 2\n",
      "\n",
      "Chi-square test results for Payment_of_Min_Amount_Yes:\n",
      "Chi-square statistic: 16869.960993116234\n",
      "P-value: 0.0\n",
      "Degrees of freedom: 2\n",
      "\n",
      "Chi-square test results for credit__score_label:\n",
      "Chi-square statistic: 199999.99999999997\n",
      "P-value: 0.0\n",
      "Degrees of freedom: 4\n",
      "\n"
     ]
    }
   ],
   "source": [
    "# Create a contingency table for each categorical column\n",
    "table={}\n",
    "for col in combined_df.columns:\n",
    "    contingency_table = pd.crosstab(combined_df[col],combined_df['credit__score_label'])\n",
    "    # Apply the chi-square test\n",
    "    chi2, p, dof, expected = stats.chi2_contingency(contingency_table)\n",
    "    print(f\"Chi-square test results for {col}:\")\n",
    "    print(f\"Chi-square statistic: {chi2}\")\n",
    "    print(f\"P-value: {p}\")\n",
    "    print(f\"Degrees of freedom: {dof}\\n\")\n",
    "    table[col]={\"Chi-square\":chi2,\"P\":p}\n",
    "    # print(f\"Expected frequencies table:\\n{expected}\\n\")"
   ]
  },
  {
   "cell_type": "code",
   "execution_count": 218,
   "metadata": {},
   "outputs": [
    {
     "name": "stdout",
     "output_type": "stream",
     "text": [
      "Credit_Utilization_Ratio:\n",
      "Chi-square: 41248.72581686868      P-value: 0.1633416447042912  \n",
      "\n",
      "Monthly_Balance:\n",
      "Chi-square: 179753.8132882256      P-value: 0.08439107433520428 \n",
      "\n",
      "Credit_Age_months:\n",
      "Chi-square: 90.62211694810793      P-value: 0.6889520016788552  \n",
      "\n"
     ]
    }
   ],
   "source": [
    "for col, values in table.items():\n",
    "    if values['P']>0.05:\n",
    "        print(f\"{col}:\\nChi-square: {values['Chi-square']}      P-value: {values['P']:<20}\\n\")"
   ]
  },
  {
   "cell_type": "markdown",
   "metadata": {},
   "source": [
    "since p value is >0.05 significance level we are dropping these columns"
   ]
  },
  {
   "cell_type": "code",
   "execution_count": 219,
   "metadata": {},
   "outputs": [],
   "source": [
    "combined_df.drop([\"Credit_Utilization_Ratio\",\"Monthly_Balance\",\"Credit_Age_months\",\"Occupation\"],axis=1,inplace=True)\n"
   ]
  },
  {
   "cell_type": "code",
   "execution_count": 220,
   "metadata": {},
   "outputs": [],
   "source": [
    "x= combined_df.drop(\"credit__score_label\",axis=1)\n",
    "y=combined_df['credit__score_label']\n",
    "x_train , x_test , y_train , y_test =train_test_split(x,y,test_size=0.2,random_state=42)"
   ]
  },
  {
   "cell_type": "markdown",
   "metadata": {},
   "source": [
    "Balanced Data"
   ]
  },
  {
   "cell_type": "code",
   "execution_count": 221,
   "metadata": {},
   "outputs": [
    {
     "data": {
      "image/png": "[encoded data removed]",
      "text/plain": [
       "<Figure size 720x720 with 1 Axes>"
      ]
     },
     "metadata": {},
     "output_type": "display_data"
    }
   ],
   "source": [
    "labels = combined_df[\"credit__score_label\"].value_counts().index\n",
    "sizes = combined_df[\"credit__score_label\"].value_counts()\n",
    "\n",
    "plt.figure(figsize = (10,10))\n",
    "plt.pie(sizes, labels=labels, autopct='%1.1f%%')\n",
    "plt.title('Credit_Score Percentage',color = 'black',fontsize = 30)\n",
    "plt.legend(combined_df[\"credit__score_label\"].value_counts())\n",
    "plt.show()"
   ]
  },
  {
   "cell_type": "code",
   "execution_count": 222,
   "metadata": {},
   "outputs": [
    {
     "name": "stdout",
     "output_type": "stream",
     "text": [
      "<class 'pandas.core.frame.DataFrame'>\n",
      "RangeIndex: 100000 entries, 0 to 99999\n",
      "Data columns (total 14 columns):\n",
      " #   Column                     Non-Null Count   Dtype  \n",
      "---  ------                     --------------   -----  \n",
      " 0   Age                        100000 non-null  float64\n",
      " 1   Annual_Income              100000 non-null  float64\n",
      " 2   Delay_from_due_date        100000 non-null  float64\n",
      " 3   Num_of_Delayed_Payment     100000 non-null  float64\n",
      " 4   Num_Credit_Inquiries       100000 non-null  float64\n",
      " 5   Credit_Mix                 100000 non-null  float64\n",
      " 6   Outstanding_Debt           100000 non-null  float64\n",
      " 7   Total_EMI_per_month        100000 non-null  float64\n",
      " 8   Payment_Behaviour          100000 non-null  float64\n",
      " 9   Credit_Age_years           100000 non-null  float64\n",
      " 10  Payment_of_Min_Amount_NM   100000 non-null  float64\n",
      " 11  Payment_of_Min_Amount_No   100000 non-null  float64\n",
      " 12  Payment_of_Min_Amount_Yes  100000 non-null  float64\n",
      " 13  credit__score_label        100000 non-null  float64\n",
      "dtypes: float64(14)\n",
      "memory usage: 10.7 MB\n"
     ]
    }
   ],
   "source": [
    "combined_df.info()"
   ]
  },
  {
   "cell_type": "code",
   "execution_count": 223,
   "metadata": {},
   "outputs": [],
   "source": [
    "sm = SMOTE(k_neighbors=7)\n",
    "x_train_sm,y_train_sm=sm.fit_resample(x_train,y_train)"
   ]
  },
  {
   "cell_type": "code",
   "execution_count": 224,
   "metadata": {},
   "outputs": [
    {
     "data": {
      "text/plain": [
       "0         2.0\n",
       "1         0.0\n",
       "2         0.0\n",
       "3         2.0\n",
       "4         0.0\n",
       "         ... \n",
       "127720    1.0\n",
       "127721    1.0\n",
       "127722    1.0\n",
       "127723    1.0\n",
       "127724    1.0\n",
       "Name: target, Length: 127725, dtype: float64"
      ]
     },
     "execution_count": 224,
     "metadata": {},
     "output_type": "execute_result"
    }
   ],
   "source": [
    "data_after_smote = pd.DataFrame(x_train_sm, columns=x_train.columns)\n",
    "data_after_smote['target'] = y_train_sm \n",
    "data_after_smote['target']"
   ]
  },
  {
   "cell_type": "code",
   "execution_count": 225,
   "metadata": {},
   "outputs": [
    {
     "data": {
      "image/png": "[encoded data removed]",
      "text/plain": [
       "<Figure size 720x720 with 1 Axes>"
      ]
     },
     "metadata": {},
     "output_type": "display_data"
    }
   ],
   "source": [
    "labels = data_after_smote['target'].value_counts().index\n",
    "sizes = data_after_smote['target'].value_counts()\n",
    "\n",
    "plt.figure(figsize = (10,10))\n",
    "plt.pie(sizes, labels=labels, autopct='%1.1f%%')\n",
    "plt.title('Credit_Score Percentage',color = 'black',fontsize = 30)\n",
    "plt.legend(data_after_smote['target'].value_counts())\n",
    "plt.show()"
   ]
  },
  {
   "cell_type": "code",
   "execution_count": 226,
   "metadata": {},
   "outputs": [
    {
     "data": {
      "image/png": "[encoded data removed]",
      "text/plain": [
       "<Figure size 720x432 with 1 Axes>"
      ]
     },
     "metadata": {
      "needs_background": "light"
     },
     "output_type": "display_data"
    }
   ],
   "source": [
    "plt.figure(figsize=(10, 6))\n",
    "plt.hist(data_after_smote['target'], bins=20, color='blue', alpha=0.7)\n",
    "plt.title('Credit score distribution')\n",
    "plt.xlabel('Credit score')\n",
    "plt.ylabel('Number of customers')\n",
    "plt.show()"
   ]
  },
  {
   "cell_type": "code",
   "execution_count": 227,
   "metadata": {},
   "outputs": [],
   "source": [
    "X= data_after_smote.drop(['target'],axis=1)\n",
    "Y=data_after_smote['target']\n"
   ]
  },
  {
   "cell_type": "code",
   "execution_count": null,
   "metadata": {},
   "outputs": [],
   "source": []
  }
 ],
 "metadata": {
  "kernelspec": {
   "display_name": "Python 3",
   "language": "python",
   "name": "python3"
  },
  "language_info": {
   "codemirror_mode": {
    "name": "ipython",
    "version": 3
   },
   "file_extension": ".py",
   "mimetype": "text/x-python",
   "name": "python",
   "nbconvert_exporter": "python",
   "pygments_lexer": "ipython3",
   "version": "3.10.12"
  }
 },
 "nbformat": 4,
 "nbformat_minor": 2
}
